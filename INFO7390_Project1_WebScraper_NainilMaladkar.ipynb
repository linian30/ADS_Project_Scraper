{
 "cells": [
  {
   "cell_type": "markdown",
   "id": "71574703",
   "metadata": {},
   "source": [
    "<div style=\"text-align: right;\">\n",
    "    <h3>Nainil Maladkar (002780019)</h3>\n",
    "    <h3>Project 1: Web Data Extraction</h3>\n",
    "    <h3>INFO7390 - Advances in Data Science and Architecture</h3>\n",
    "</div>\n"
   ]
  },
  {
   "cell_type": "markdown",
   "id": "edf23b94",
   "metadata": {},
   "source": [
    "#### References\n",
    "\n",
    "1. Web Scraping python notebook by Prof. Junwei Huang\n",
    "2. Medium blog on Scraping: [A Beginner's Guide to Web Scraping in Python](https://blog.jovian.com/a-beginners-guide-to-web-scraping-in-python-8de50bdf211b)\n",
    "\n",
    "---\n",
    "\n",
    "                                              "
   ]
  },
  {
   "cell_type": "markdown",
   "id": "ae18960d",
   "metadata": {},
   "source": [
    "# GitHub Featured Topics Scraper\n",
    "\n",
    "### Project Description\n",
    "\n",
    "The **GitHub Topic Scraper** is a Python web scraping project that aims to retrieve the top listed topics of discussion from GitHub topics page listed on `'https://github.com/topics'` and store the data in a `CSV` file. \n",
    "\n",
    "This project utilizes `Selenium Webdriver` and `BeautifulSoup`\n",
    "\n",
    "### Features:\n",
    "\n",
    "- **Web Scraping:** The project leverages Selenium to automate the process of navigating to the GitHub topics page, scrolling through the topics, and fetching the list of all topics information.\n",
    "\n",
    "- **Data Extraction:** Beautiful Soup is used to parse and extract relevant data like `repo name` and `stars` and  and associated details from the web page.\n",
    "\n",
    "- **CSV Export:** The scraped data is then organized and saved in a `.CSV` file, making it easy to analyze or share with others.\n",
    "\n",
    "The project further tries to automate the process using functions based on selected github topic."
   ]
  },
  {
   "cell_type": "markdown",
   "id": "58393e8c",
   "metadata": {},
   "source": [
    "### Download Webpage with `Requests` Library"
   ]
  },
  {
   "cell_type": "code",
   "execution_count": 1,
   "id": "4a745b62",
   "metadata": {},
   "outputs": [],
   "source": [
    "#!pip install requests --upgrade "
   ]
  },
  {
   "cell_type": "code",
   "execution_count": 2,
   "id": "1b852a76",
   "metadata": {},
   "outputs": [],
   "source": [
    "import requests"
   ]
  },
  {
   "cell_type": "code",
   "execution_count": 3,
   "id": "0b6488cc",
   "metadata": {},
   "outputs": [],
   "source": [
    "git_topics_url = 'https://github.com/topics'"
   ]
  },
  {
   "cell_type": "code",
   "execution_count": 4,
   "id": "31512a8b",
   "metadata": {},
   "outputs": [],
   "source": [
    "response = requests.get(git_topics_url)"
   ]
  },
  {
   "cell_type": "markdown",
   "id": "b76376bb",
   "metadata": {},
   "source": [
    "**Status code check for website to check if request is successful**"
   ]
  },
  {
   "cell_type": "code",
   "execution_count": 5,
   "id": "70b681db",
   "metadata": {},
   "outputs": [
    {
     "data": {
      "text/plain": [
       "200"
      ]
     },
     "execution_count": 5,
     "metadata": {},
     "output_type": "execute_result"
    }
   ],
   "source": [
    "response.status_code"
   ]
  },
  {
   "cell_type": "code",
   "execution_count": 6,
   "id": "41af22a3",
   "metadata": {},
   "outputs": [
    {
     "data": {
      "text/plain": [
       "165737"
      ]
     },
     "execution_count": 6,
     "metadata": {},
     "output_type": "execute_result"
    }
   ],
   "source": [
    "len(response.text)"
   ]
  },
  {
   "cell_type": "code",
   "execution_count": 7,
   "id": "9c16215e",
   "metadata": {},
   "outputs": [
    {
     "data": {
      "text/plain": [
       "'\\n\\n<!DOCTYPE html>\\n<html lang=\"en\" data-color-mode=\"auto\" data-light-theme=\"light\" data-dark-theme=\"dark\"  data-a11y-animated-images=\"system\" data-a11y-link-underlines=\"true\">\\n\\n\\n  <head>\\n    <meta charset=\"utf-8\">\\n  <link rel=\"dns-prefetch\" href=\"https://github.githubassets.com\">\\n  <link rel=\"dns-prefetch\" href=\"https://avatars.githubusercontent.com\">\\n  <link rel=\"dns-prefetch\" href=\"https://github-cloud.s3.amazonaws.com\">\\n  <link rel=\"dns-prefetch\" href=\"https://user-images.githubusercontent.com/\">\\n  <link rel=\"preconnect\" href=\"https://github.githubassets.com\" crossorigin>\\n  <link rel=\"preconnect\" href=\"https://avatars.githubusercontent.com\">\\n\\n  \\n\\n  <link crossorigin=\"anonymous\" media=\"all\" rel=\"stylesheet\" href=\"https://github.githubassets.com/assets/light-a09cef873428.css\" /><link crossorigin=\"anonymous\" media=\"all\" rel=\"stylesheet\" href=\"https://github.githubassets.com/assets/dark-5d486a4ede8e.css\" /><link data-color-theme=\"dark_dimmed\" crossorigin=\"anonymous\" media=\"all\" rel=\"styl'"
      ]
     },
     "execution_count": 7,
     "metadata": {},
     "output_type": "execute_result"
    }
   ],
   "source": [
    "#check content of webpage\n",
    "topics_page_contents = response.text\n",
    "topics_page_contents [:1000]"
   ]
  },
  {
   "cell_type": "code",
   "execution_count": 8,
   "id": "3aaa5c29",
   "metadata": {},
   "outputs": [],
   "source": [
    "#save the webpage to file `webpage.html`\n",
    "with open('webpage.html', 'w', encoding='utf-8') as f:\n",
    "    f.write(topics_page_contents)"
   ]
  },
  {
   "cell_type": "markdown",
   "id": "2c37e092",
   "metadata": {},
   "source": [
    "**Using `Selenium` to access load webpage**"
   ]
  },
  {
   "cell_type": "code",
   "execution_count": 9,
   "id": "b8ac27a7",
   "metadata": {
    "scrolled": true
   },
   "outputs": [
    {
     "name": "stdout",
     "output_type": "stream",
     "text": [
      "Retrieving web page URL 'https://github.com/topics'\n"
     ]
    }
   ],
   "source": [
    "from bs4 import BeautifulSoup\n",
    "from selenium import webdriver\n",
    "from selenium.webdriver.common.by import By\n",
    "from selenium.webdriver.chrome.options import Options\n",
    "import time\n",
    "\n",
    "url = \"https://github.com/topics\"\n",
    "\n",
    "TIMEOUT = 5\n",
    "\n",
    "options = Options()\n",
    "options.add_argument(\"--start-maximized\")\n",
    "options.add_argument(\"--disable-notifications\")\n",
    "options.add_argument(\"--disable-popup-blocking\")\n",
    "options.add_argument(\"--disable-infobars\")\n",
    "options.add_argument(\"--disable-extensions\")\n",
    "options.add_experimental_option(\"prefs\", \n",
    "                                {\"profile.default_content_setting_values.notifications\": 2 \n",
    "                                }) \n",
    "\n",
    "print(f\"Retrieving web page URL '{url}'\")\n",
    "driver = webdriver.Chrome(options=options)\n",
    "driver.get(url)\n",
    "\n",
    "# Timeout needed for the web page to render (read more about it)\n",
    "time.sleep(TIMEOUT)\n",
    "\n",
    "# Scroll to the bottom of the page using JavaScript\n",
    "driver.execute_script(\"window.scrollTo(0, document.body.scrollHeight);\")\n",
    "\n",
    "# Add a delay to allow the page to finish loading (adjust as needed)\n",
    "time.sleep(TIMEOUT)\n",
    "\n",
    "html = driver.page_source\n",
    "\n",
    "# Close the browser\n",
    "driver.quit()\n"
   ]
  },
  {
   "cell_type": "markdown",
   "id": "cd574052",
   "metadata": {},
   "source": [
    "### Data Extraction and Parsing using `BeautifulSoup`"
   ]
  },
  {
   "cell_type": "code",
   "execution_count": 10,
   "id": "046abf1d",
   "metadata": {},
   "outputs": [],
   "source": [
    "#!pip install beautifulsoup4 --upgrade"
   ]
  },
  {
   "cell_type": "code",
   "execution_count": 11,
   "id": "8ca6d51c",
   "metadata": {},
   "outputs": [],
   "source": [
    "from bs4 import BeautifulSoup\n",
    "import bs4\n",
    "import pandas as pd\n",
    "import time"
   ]
  },
  {
   "cell_type": "code",
   "execution_count": 12,
   "id": "e4ea3085",
   "metadata": {},
   "outputs": [],
   "source": [
    "git_topic_doc = BeautifulSoup(topics_page_contents, \"html.parser\")"
   ]
  },
  {
   "cell_type": "code",
   "execution_count": 13,
   "id": "fd772064",
   "metadata": {},
   "outputs": [
    {
     "data": {
      "text/plain": [
       "bs4.BeautifulSoup"
      ]
     },
     "execution_count": 13,
     "metadata": {},
     "output_type": "execute_result"
    }
   ],
   "source": [
    "type(git_topic_doc)"
   ]
  },
  {
   "cell_type": "code",
   "execution_count": 14,
   "id": "87c828fe",
   "metadata": {},
   "outputs": [],
   "source": [
    "# element name inside element class 'p'\n",
    "topic_selection_class = 'f3 lh-condensed mb-0 mt-1 Link--primary'\n",
    "#specify tag to find and key\n",
    "git_topic_title_tags = git_topic_doc.find_all('p', {'class': topic_selection_class })"
   ]
  },
  {
   "cell_type": "code",
   "execution_count": 15,
   "id": "ddb3c244",
   "metadata": {},
   "outputs": [
    {
     "data": {
      "text/plain": [
       "30"
      ]
     },
     "execution_count": 15,
     "metadata": {},
     "output_type": "execute_result"
    }
   ],
   "source": [
    "len(git_topic_title_tags)"
   ]
  },
  {
   "cell_type": "code",
   "execution_count": 16,
   "id": "8855df6f",
   "metadata": {},
   "outputs": [
    {
     "data": {
      "text/plain": [
       "[<p class=\"f3 lh-condensed mb-0 mt-1 Link--primary\">3D</p>,\n",
       " <p class=\"f3 lh-condensed mb-0 mt-1 Link--primary\">Ajax</p>,\n",
       " <p class=\"f3 lh-condensed mb-0 mt-1 Link--primary\">Algorithm</p>,\n",
       " <p class=\"f3 lh-condensed mb-0 mt-1 Link--primary\">Amp</p>,\n",
       " <p class=\"f3 lh-condensed mb-0 mt-1 Link--primary\">Android</p>,\n",
       " <p class=\"f3 lh-condensed mb-0 mt-1 Link--primary\">Angular</p>,\n",
       " <p class=\"f3 lh-condensed mb-0 mt-1 Link--primary\">Ansible</p>,\n",
       " <p class=\"f3 lh-condensed mb-0 mt-1 Link--primary\">API</p>,\n",
       " <p class=\"f3 lh-condensed mb-0 mt-1 Link--primary\">Arduino</p>,\n",
       " <p class=\"f3 lh-condensed mb-0 mt-1 Link--primary\">ASP.NET</p>,\n",
       " <p class=\"f3 lh-condensed mb-0 mt-1 Link--primary\">Atom</p>,\n",
       " <p class=\"f3 lh-condensed mb-0 mt-1 Link--primary\">Awesome Lists</p>,\n",
       " <p class=\"f3 lh-condensed mb-0 mt-1 Link--primary\">Amazon Web Services</p>,\n",
       " <p class=\"f3 lh-condensed mb-0 mt-1 Link--primary\">Azure</p>,\n",
       " <p class=\"f3 lh-condensed mb-0 mt-1 Link--primary\">Babel</p>,\n",
       " <p class=\"f3 lh-condensed mb-0 mt-1 Link--primary\">Bash</p>,\n",
       " <p class=\"f3 lh-condensed mb-0 mt-1 Link--primary\">Bitcoin</p>,\n",
       " <p class=\"f3 lh-condensed mb-0 mt-1 Link--primary\">Bootstrap</p>,\n",
       " <p class=\"f3 lh-condensed mb-0 mt-1 Link--primary\">Bot</p>,\n",
       " <p class=\"f3 lh-condensed mb-0 mt-1 Link--primary\">C</p>]"
      ]
     },
     "execution_count": 16,
     "metadata": {},
     "output_type": "execute_result"
    }
   ],
   "source": [
    "#retrieve top 20 titles\n",
    "git_topic_title_tags[:20]"
   ]
  },
  {
   "cell_type": "markdown",
   "id": "e798f023",
   "metadata": {},
   "source": [
    "### Get Topic title for repository\n",
    "#### Get first title by index [0] and save to get `div` class tag"
   ]
  },
  {
   "cell_type": "code",
   "execution_count": 17,
   "id": "06d297d7",
   "metadata": {},
   "outputs": [
    {
     "data": {
      "text/plain": [
       "<p class=\"f3 lh-condensed mb-0 mt-1 Link--primary\">3D</p>"
      ]
     },
     "execution_count": 17,
     "metadata": {},
     "output_type": "execute_result"
    }
   ],
   "source": [
    "topic_title_tag0 = git_topic_title_tags[0]\n",
    "topic_title_tag0"
   ]
  },
  {
   "cell_type": "code",
   "execution_count": 18,
   "id": "cc11c895",
   "metadata": {},
   "outputs": [],
   "source": [
    "#div class store for tags\n",
    "div_tag = topic_title_tag0.parent"
   ]
  },
  {
   "cell_type": "code",
   "execution_count": 19,
   "id": "549b6ece",
   "metadata": {},
   "outputs": [
    {
     "data": {
      "text/plain": [
       "<div class=\"py-4 border-bottom d-flex flex-justify-between\">\n",
       "<a class=\"no-underline flex-grow-0\" href=\"/topics/3d\">\n",
       "<div class=\"color-bg-accent f4 color-fg-muted text-bold rounded mr-3 flex-shrink-0 text-center\" style=\"width:64px; height:64px; line-height:64px;\">\n",
       "            #\n",
       "          </div>\n",
       "</a>\n",
       "<a class=\"no-underline flex-1 d-flex flex-column\" href=\"/topics/3d\">\n",
       "<p class=\"f3 lh-condensed mb-0 mt-1 Link--primary\">3D</p>\n",
       "<p class=\"f5 color-fg-muted mb-0 mt-1\">\n",
       "          3D refers to the use of three-dimensional graphics, modeling, and animation in various industries.\n",
       "        </p>\n",
       "</a>\n",
       "<div class=\"flex-grow-0\">\n",
       "<div class=\"d-block\" data-view-component=\"true\">\n",
       "<a aria-label=\"You must be signed in to star a repository\" class=\"tooltipped tooltipped-s btn-sm btn\" data-hydro-click='{\"event_type\":\"authentication.click\",\"payload\":{\"location_in_page\":\"star button\",\"repository_id\":null,\"auth_type\":\"LOG_IN\",\"originating_url\":\"https://github.com/topics\",\"user_id\":null}}' data-hydro-click-hmac=\"5d696759683aa72e09fbdb14a69b26ab1c672e6d107e4ae922a0926f4476f50a\" data-view-component=\"true\" href=\"/login?return_to=%2Ftopic.3d\" rel=\"nofollow\"> <svg aria-hidden=\"true\" class=\"octicon octicon-star v-align-text-bottom d-inline-block mr-2\" data-view-component=\"true\" height=\"16\" version=\"1.1\" viewbox=\"0 0 16 16\" width=\"16\">\n",
       "<path d=\"M8 .25a.75.75 0 0 1 .673.418l1.882 3.815 4.21.612a.75.75 0 0 1 .416 1.279l-3.046 2.97.719 4.192a.751.751 0 0 1-1.088.791L8 12.347l-3.766 1.98a.75.75 0 0 1-1.088-.79l.72-4.194L.818 6.374a.75.75 0 0 1 .416-1.28l4.21-.611L7.327.668A.75.75 0 0 1 8 .25Zm0 2.445L6.615 5.5a.75.75 0 0 1-.564.41l-3.097.45 2.24 2.184a.75.75 0 0 1 .216.664l-.528 3.084 2.769-1.456a.75.75 0 0 1 .698 0l2.77 1.456-.53-3.084a.75.75 0 0 1 .216-.664l2.24-2.183-3.096-.45a.75.75 0 0 1-.564-.41L8 2.694Z\"></path>\n",
       "</svg><span class=\"d-inline\" data-view-component=\"true\">\n",
       "          Star\n",
       "</span>\n",
       "</a></div>\n",
       "</div>\n",
       "</div>"
      ]
     },
     "execution_count": 19,
     "metadata": {},
     "output_type": "execute_result"
    }
   ],
   "source": [
    "div_tag.parent"
   ]
  },
  {
   "cell_type": "code",
   "execution_count": 20,
   "id": "9bafa5b8",
   "metadata": {},
   "outputs": [],
   "source": [
    "# <p class=\"f5 color-fg-muted mb-0 mt-1\">\n",
    "#           3D refers to the use of three-dimensional graphics, modeling, and animation in various industries.\n",
    "#         </p>"
   ]
  },
  {
   "cell_type": "markdown",
   "id": "f7f4c107",
   "metadata": {},
   "source": [
    "### Get Topic description for Title"
   ]
  },
  {
   "cell_type": "code",
   "execution_count": 21,
   "id": "994e6011",
   "metadata": {},
   "outputs": [],
   "source": [
    "git_topic_desc_tags = git_topic_doc.find_all('p' , {'class': 'f5 color-fg-muted mb-0 mt-1'})"
   ]
  },
  {
   "cell_type": "code",
   "execution_count": 22,
   "id": "e4370eb3",
   "metadata": {},
   "outputs": [
    {
     "data": {
      "text/plain": [
       "30"
      ]
     },
     "execution_count": 22,
     "metadata": {},
     "output_type": "execute_result"
    }
   ],
   "source": [
    "len(git_topic_desc_tags)"
   ]
  },
  {
   "cell_type": "code",
   "execution_count": 23,
   "id": "84edd527",
   "metadata": {},
   "outputs": [],
   "source": [
    "git_topic_link_tags = git_topic_doc.find_all('a' , {'class': 'no-underline flex-1 d-flex flex-column'})"
   ]
  },
  {
   "cell_type": "code",
   "execution_count": 24,
   "id": "c77edec2",
   "metadata": {},
   "outputs": [
    {
     "data": {
      "text/plain": [
       "30"
      ]
     },
     "execution_count": 24,
     "metadata": {},
     "output_type": "execute_result"
    }
   ],
   "source": [
    "len(git_topic_link_tags)"
   ]
  },
  {
   "cell_type": "code",
   "execution_count": 25,
   "id": "3b86a73d",
   "metadata": {},
   "outputs": [
    {
     "name": "stdout",
     "output_type": "stream",
     "text": [
      "['3D refers to the use of three-dimensional graphics, modeling, and animation in various industries.', 'Ajax is a technique for creating interactive web applications.', 'Algorithms are self-contained sequences that carry out a variety of tasks.', 'Amp is a non-blocking concurrency library for PHP.', 'Android is an operating system built by Google designed for mobile devices.', 'Angular is an open source web application platform.', 'Ansible is a simple and powerful automation engine.', 'An API (Application Programming Interface) is a collection of protocols and subroutines for building software.', 'Arduino is an open source platform for building electronic devices.', 'ASP.NET is a web framework for building modern web apps and services.', 'Atom is a open source text editor built with web technologies.', 'An awesome list is a list of awesome things curated by the community.', 'Amazon Web Services provides on-demand cloud computing platforms on a subscription basis.', 'Azure is a cloud computing service created by Microsoft.', 'Babel is a compiler for writing next generation JavaScript, today.', 'Bash is a shell and command language interpreter for the GNU operating system.', 'Bitcoin is a cryptocurrency developed by Satoshi Nakamoto.', 'Bootstrap is an HTML, CSS, and JavaScript framework.', 'A bot is an application that runs automated tasks over the Internet.', 'C is a general purpose programming language that first appeared in 1972.', 'Chrome is a web browser from the tech company Google.', 'Chrome extensions enable users to customize the Chrome browsing experience.', 'A CLI, or command-line interface, is a console that helps users issue commands to a program.', 'Clojure is a dynamic, general-purpose programming language.', 'Automate your code review with style, quality, security, and test‑coverage checks when you need them.', 'Ensure your code meets quality standards and ship with confidence.', 'Compilers are software that translate higher-level programming languages to lower-level languages (e.g. machine code).', 'Automatically build and test your code as you push it upstream, preventing bugs from being deployed to production.', 'The coronavirus disease 2019 (COVID-19) is an infectious disease caused by SARS-CoV-2.', 'C++ is a general purpose and object-oriented programming language.']\n"
     ]
    }
   ],
   "source": [
    "git_topic_descs = []\n",
    "\n",
    "for tag in git_topic_desc_tags:\n",
    "     git_topic_descs.append(tag.text.strip())\n",
    "\n",
    "print(git_topic_descs)\n"
   ]
  },
  {
   "cell_type": "code",
   "execution_count": 26,
   "id": "c64dba72",
   "metadata": {},
   "outputs": [],
   "source": [
    "# <a href=\"/topics/3d\" class=\"no-underline flex-1 d-flex flex-column\">\n",
    "#         <p class=\"f3 lh-condensed mb-0 mt-1 Link--primary\">3D</p>\n",
    "#         <p class=\"f5 color-fg-muted mb-0 mt-1\">\n",
    "#           3D refers to the use of three-dimensional graphics, modeling, and animation in various industries.\n",
    "#         </p>\n",
    "#       </a>"
   ]
  },
  {
   "cell_type": "markdown",
   "id": "19889938",
   "metadata": {},
   "source": [
    "### Get Topic `URL` for repository\n",
    "##### Get first title by index [0] and add `href` link to base URL to form list"
   ]
  },
  {
   "cell_type": "code",
   "execution_count": 27,
   "id": "ffac9679",
   "metadata": {},
   "outputs": [
    {
     "data": {
      "text/plain": [
       "'/topics/3d'"
      ]
     },
     "execution_count": 27,
     "metadata": {},
     "output_type": "execute_result"
    }
   ],
   "source": [
    "git_topic_link_tags[0]['href']"
   ]
  },
  {
   "cell_type": "code",
   "execution_count": 28,
   "id": "06a3ac45",
   "metadata": {},
   "outputs": [
    {
     "name": "stdout",
     "output_type": "stream",
     "text": [
      "https://github.com/topics/3d\n"
     ]
    }
   ],
   "source": [
    "topic0_url = \"https://github.com\" + git_topic_link_tags[0]['href']\n",
    "print(topic0_url)"
   ]
  },
  {
   "cell_type": "code",
   "execution_count": 29,
   "id": "5564e805",
   "metadata": {},
   "outputs": [
    {
     "data": {
      "text/plain": [
       "[<p class=\"f3 lh-condensed mb-0 mt-1 Link--primary\">3D</p>,\n",
       " <p class=\"f3 lh-condensed mb-0 mt-1 Link--primary\">Ajax</p>,\n",
       " <p class=\"f3 lh-condensed mb-0 mt-1 Link--primary\">Algorithm</p>,\n",
       " <p class=\"f3 lh-condensed mb-0 mt-1 Link--primary\">Amp</p>,\n",
       " <p class=\"f3 lh-condensed mb-0 mt-1 Link--primary\">Android</p>,\n",
       " <p class=\"f3 lh-condensed mb-0 mt-1 Link--primary\">Angular</p>,\n",
       " <p class=\"f3 lh-condensed mb-0 mt-1 Link--primary\">Ansible</p>,\n",
       " <p class=\"f3 lh-condensed mb-0 mt-1 Link--primary\">API</p>,\n",
       " <p class=\"f3 lh-condensed mb-0 mt-1 Link--primary\">Arduino</p>,\n",
       " <p class=\"f3 lh-condensed mb-0 mt-1 Link--primary\">ASP.NET</p>,\n",
       " <p class=\"f3 lh-condensed mb-0 mt-1 Link--primary\">Atom</p>,\n",
       " <p class=\"f3 lh-condensed mb-0 mt-1 Link--primary\">Awesome Lists</p>,\n",
       " <p class=\"f3 lh-condensed mb-0 mt-1 Link--primary\">Amazon Web Services</p>,\n",
       " <p class=\"f3 lh-condensed mb-0 mt-1 Link--primary\">Azure</p>,\n",
       " <p class=\"f3 lh-condensed mb-0 mt-1 Link--primary\">Babel</p>,\n",
       " <p class=\"f3 lh-condensed mb-0 mt-1 Link--primary\">Bash</p>,\n",
       " <p class=\"f3 lh-condensed mb-0 mt-1 Link--primary\">Bitcoin</p>,\n",
       " <p class=\"f3 lh-condensed mb-0 mt-1 Link--primary\">Bootstrap</p>,\n",
       " <p class=\"f3 lh-condensed mb-0 mt-1 Link--primary\">Bot</p>,\n",
       " <p class=\"f3 lh-condensed mb-0 mt-1 Link--primary\">C</p>,\n",
       " <p class=\"f3 lh-condensed mb-0 mt-1 Link--primary\">Chrome</p>,\n",
       " <p class=\"f3 lh-condensed mb-0 mt-1 Link--primary\">Chrome extension</p>,\n",
       " <p class=\"f3 lh-condensed mb-0 mt-1 Link--primary\">Command line interface</p>,\n",
       " <p class=\"f3 lh-condensed mb-0 mt-1 Link--primary\">Clojure</p>,\n",
       " <p class=\"f3 lh-condensed mb-0 mt-1 Link--primary\">Code quality</p>,\n",
       " <p class=\"f3 lh-condensed mb-0 mt-1 Link--primary\">Code review</p>,\n",
       " <p class=\"f3 lh-condensed mb-0 mt-1 Link--primary\">Compiler</p>,\n",
       " <p class=\"f3 lh-condensed mb-0 mt-1 Link--primary\">Continuous integration</p>,\n",
       " <p class=\"f3 lh-condensed mb-0 mt-1 Link--primary\">COVID-19</p>,\n",
       " <p class=\"f3 lh-condensed mb-0 mt-1 Link--primary\">C++</p>]"
      ]
     },
     "execution_count": 29,
     "metadata": {},
     "output_type": "execute_result"
    }
   ],
   "source": [
    "git_topic_title_tags[:50]"
   ]
  },
  {
   "cell_type": "code",
   "execution_count": 30,
   "id": "47fd49e0",
   "metadata": {},
   "outputs": [
    {
     "name": "stdout",
     "output_type": "stream",
     "text": [
      "['3D', 'Ajax', 'Algorithm', 'Amp', 'Android', 'Angular', 'Ansible', 'API', 'Arduino', 'ASP.NET', 'Atom', 'Awesome Lists', 'Amazon Web Services', 'Azure', 'Babel', 'Bash', 'Bitcoin', 'Bootstrap', 'Bot', 'C', 'Chrome', 'Chrome extension', 'Command line interface', 'Clojure', 'Code quality', 'Code review', 'Compiler', 'Continuous integration', 'COVID-19', 'C++']\n"
     ]
    }
   ],
   "source": [
    "# Get Title names in a list and append any new additions\n",
    "\n",
    "git_topic_titles = []\n",
    "\n",
    "for tag in git_topic_title_tags:\n",
    "    git_topic_titles.append(tag.text)\n",
    "\n",
    "print(git_topic_titles)"
   ]
  },
  {
   "cell_type": "code",
   "execution_count": 31,
   "id": "bfad0c28",
   "metadata": {},
   "outputs": [
    {
     "data": {
      "text/plain": [
       "['https://github.com/topics/3d',\n",
       " 'https://github.com/topics/ajax',\n",
       " 'https://github.com/topics/algorithm',\n",
       " 'https://github.com/topics/amphp',\n",
       " 'https://github.com/topics/android',\n",
       " 'https://github.com/topics/angular',\n",
       " 'https://github.com/topics/ansible',\n",
       " 'https://github.com/topics/api',\n",
       " 'https://github.com/topics/arduino',\n",
       " 'https://github.com/topics/aspnet',\n",
       " 'https://github.com/topics/atom',\n",
       " 'https://github.com/topics/awesome',\n",
       " 'https://github.com/topics/aws',\n",
       " 'https://github.com/topics/azure',\n",
       " 'https://github.com/topics/babel',\n",
       " 'https://github.com/topics/bash',\n",
       " 'https://github.com/topics/bitcoin',\n",
       " 'https://github.com/topics/bootstrap',\n",
       " 'https://github.com/topics/bot',\n",
       " 'https://github.com/topics/c',\n",
       " 'https://github.com/topics/chrome',\n",
       " 'https://github.com/topics/chrome-extension',\n",
       " 'https://github.com/topics/cli',\n",
       " 'https://github.com/topics/clojure',\n",
       " 'https://github.com/topics/code-quality',\n",
       " 'https://github.com/topics/code-review',\n",
       " 'https://github.com/topics/compiler',\n",
       " 'https://github.com/topics/continuous-integration',\n",
       " 'https://github.com/topics/covid-19',\n",
       " 'https://github.com/topics/cpp']"
      ]
     },
     "execution_count": 31,
     "metadata": {},
     "output_type": "execute_result"
    }
   ],
   "source": [
    "git_topic_urls = []\n",
    "\n",
    "base_url = 'https://github.com'\n",
    "for tag in git_topic_link_tags:\n",
    "    git_topic_urls.append(base_url + tag['href'])\n",
    "\n",
    "#print(topic_urls)\n",
    "git_topic_urls"
   ]
  },
  {
   "cell_type": "markdown",
   "id": "1dfbf193",
   "metadata": {},
   "source": [
    "#### Make a new disctionary to store details scraped from webpage"
   ]
  },
  {
   "cell_type": "code",
   "execution_count": 32,
   "id": "ddf3fdf2",
   "metadata": {},
   "outputs": [],
   "source": [
    "git_topics_dict = {\n",
    "   'title' :  git_topic_titles,\n",
    "    'URL'  : git_topic_urls,\n",
    "    'Description' : git_topic_descs\n",
    "    \n",
    "}"
   ]
  },
  {
   "cell_type": "code",
   "execution_count": 33,
   "id": "a75287c4",
   "metadata": {},
   "outputs": [
    {
     "name": "stdout",
     "output_type": "stream",
     "text": [
      "{'title': ['3D', 'Ajax', 'Algorithm', 'Amp', 'Android', 'Angular', 'Ansible', 'API', 'Arduino', 'ASP.NET', 'Atom', 'Awesome Lists', 'Amazon Web Services', 'Azure', 'Babel', 'Bash', 'Bitcoin', 'Bootstrap', 'Bot', 'C', 'Chrome', 'Chrome extension', 'Command line interface', 'Clojure', 'Code quality', 'Code review', 'Compiler', 'Continuous integration', 'COVID-19', 'C++'], 'URL': ['https://github.com/topics/3d', 'https://github.com/topics/ajax', 'https://github.com/topics/algorithm', 'https://github.com/topics/amphp', 'https://github.com/topics/android', 'https://github.com/topics/angular', 'https://github.com/topics/ansible', 'https://github.com/topics/api', 'https://github.com/topics/arduino', 'https://github.com/topics/aspnet', 'https://github.com/topics/atom', 'https://github.com/topics/awesome', 'https://github.com/topics/aws', 'https://github.com/topics/azure', 'https://github.com/topics/babel', 'https://github.com/topics/bash', 'https://github.com/topics/bitcoin', 'https://github.com/topics/bootstrap', 'https://github.com/topics/bot', 'https://github.com/topics/c', 'https://github.com/topics/chrome', 'https://github.com/topics/chrome-extension', 'https://github.com/topics/cli', 'https://github.com/topics/clojure', 'https://github.com/topics/code-quality', 'https://github.com/topics/code-review', 'https://github.com/topics/compiler', 'https://github.com/topics/continuous-integration', 'https://github.com/topics/covid-19', 'https://github.com/topics/cpp'], 'Description': ['3D refers to the use of three-dimensional graphics, modeling, and animation in various industries.', 'Ajax is a technique for creating interactive web applications.', 'Algorithms are self-contained sequences that carry out a variety of tasks.', 'Amp is a non-blocking concurrency library for PHP.', 'Android is an operating system built by Google designed for mobile devices.', 'Angular is an open source web application platform.', 'Ansible is a simple and powerful automation engine.', 'An API (Application Programming Interface) is a collection of protocols and subroutines for building software.', 'Arduino is an open source platform for building electronic devices.', 'ASP.NET is a web framework for building modern web apps and services.', 'Atom is a open source text editor built with web technologies.', 'An awesome list is a list of awesome things curated by the community.', 'Amazon Web Services provides on-demand cloud computing platforms on a subscription basis.', 'Azure is a cloud computing service created by Microsoft.', 'Babel is a compiler for writing next generation JavaScript, today.', 'Bash is a shell and command language interpreter for the GNU operating system.', 'Bitcoin is a cryptocurrency developed by Satoshi Nakamoto.', 'Bootstrap is an HTML, CSS, and JavaScript framework.', 'A bot is an application that runs automated tasks over the Internet.', 'C is a general purpose programming language that first appeared in 1972.', 'Chrome is a web browser from the tech company Google.', 'Chrome extensions enable users to customize the Chrome browsing experience.', 'A CLI, or command-line interface, is a console that helps users issue commands to a program.', 'Clojure is a dynamic, general-purpose programming language.', 'Automate your code review with style, quality, security, and test‑coverage checks when you need them.', 'Ensure your code meets quality standards and ship with confidence.', 'Compilers are software that translate higher-level programming languages to lower-level languages (e.g. machine code).', 'Automatically build and test your code as you push it upstream, preventing bugs from being deployed to production.', 'The coronavirus disease 2019 (COVID-19) is an infectious disease caused by SARS-CoV-2.', 'C++ is a general purpose and object-oriented programming language.']}\n"
     ]
    }
   ],
   "source": [
    "print(git_topics_dict)"
   ]
  },
  {
   "cell_type": "markdown",
   "id": "cf725b23",
   "metadata": {},
   "source": [
    "### Generate a `dataframe` & save the contents in a `.csv` file "
   ]
  },
  {
   "cell_type": "code",
   "execution_count": 34,
   "id": "60041090",
   "metadata": {},
   "outputs": [],
   "source": [
    "git_topics_df = pd.DataFrame(git_topics_dict)"
   ]
  },
  {
   "cell_type": "code",
   "execution_count": 35,
   "id": "047aedcd",
   "metadata": {},
   "outputs": [
    {
     "data": {
      "text/html": [
       "<div>\n",
       "<style scoped>\n",
       "    .dataframe tbody tr th:only-of-type {\n",
       "        vertical-align: middle;\n",
       "    }\n",
       "\n",
       "    .dataframe tbody tr th {\n",
       "        vertical-align: top;\n",
       "    }\n",
       "\n",
       "    .dataframe thead th {\n",
       "        text-align: right;\n",
       "    }\n",
       "</style>\n",
       "<table border=\"1\" class=\"dataframe\">\n",
       "  <thead>\n",
       "    <tr style=\"text-align: right;\">\n",
       "      <th></th>\n",
       "      <th>title</th>\n",
       "      <th>URL</th>\n",
       "      <th>Description</th>\n",
       "    </tr>\n",
       "  </thead>\n",
       "  <tbody>\n",
       "    <tr>\n",
       "      <th>0</th>\n",
       "      <td>3D</td>\n",
       "      <td>https://github.com/topics/3d</td>\n",
       "      <td>3D refers to the use of three-dimensional grap...</td>\n",
       "    </tr>\n",
       "    <tr>\n",
       "      <th>1</th>\n",
       "      <td>Ajax</td>\n",
       "      <td>https://github.com/topics/ajax</td>\n",
       "      <td>Ajax is a technique for creating interactive w...</td>\n",
       "    </tr>\n",
       "    <tr>\n",
       "      <th>2</th>\n",
       "      <td>Algorithm</td>\n",
       "      <td>https://github.com/topics/algorithm</td>\n",
       "      <td>Algorithms are self-contained sequences that c...</td>\n",
       "    </tr>\n",
       "    <tr>\n",
       "      <th>3</th>\n",
       "      <td>Amp</td>\n",
       "      <td>https://github.com/topics/amphp</td>\n",
       "      <td>Amp is a non-blocking concurrency library for ...</td>\n",
       "    </tr>\n",
       "    <tr>\n",
       "      <th>4</th>\n",
       "      <td>Android</td>\n",
       "      <td>https://github.com/topics/android</td>\n",
       "      <td>Android is an operating system built by Google...</td>\n",
       "    </tr>\n",
       "    <tr>\n",
       "      <th>5</th>\n",
       "      <td>Angular</td>\n",
       "      <td>https://github.com/topics/angular</td>\n",
       "      <td>Angular is an open source web application plat...</td>\n",
       "    </tr>\n",
       "    <tr>\n",
       "      <th>6</th>\n",
       "      <td>Ansible</td>\n",
       "      <td>https://github.com/topics/ansible</td>\n",
       "      <td>Ansible is a simple and powerful automation en...</td>\n",
       "    </tr>\n",
       "    <tr>\n",
       "      <th>7</th>\n",
       "      <td>API</td>\n",
       "      <td>https://github.com/topics/api</td>\n",
       "      <td>An API (Application Programming Interface) is ...</td>\n",
       "    </tr>\n",
       "    <tr>\n",
       "      <th>8</th>\n",
       "      <td>Arduino</td>\n",
       "      <td>https://github.com/topics/arduino</td>\n",
       "      <td>Arduino is an open source platform for buildin...</td>\n",
       "    </tr>\n",
       "    <tr>\n",
       "      <th>9</th>\n",
       "      <td>ASP.NET</td>\n",
       "      <td>https://github.com/topics/aspnet</td>\n",
       "      <td>ASP.NET is a web framework for building modern...</td>\n",
       "    </tr>\n",
       "    <tr>\n",
       "      <th>10</th>\n",
       "      <td>Atom</td>\n",
       "      <td>https://github.com/topics/atom</td>\n",
       "      <td>Atom is a open source text editor built with w...</td>\n",
       "    </tr>\n",
       "    <tr>\n",
       "      <th>11</th>\n",
       "      <td>Awesome Lists</td>\n",
       "      <td>https://github.com/topics/awesome</td>\n",
       "      <td>An awesome list is a list of awesome things cu...</td>\n",
       "    </tr>\n",
       "    <tr>\n",
       "      <th>12</th>\n",
       "      <td>Amazon Web Services</td>\n",
       "      <td>https://github.com/topics/aws</td>\n",
       "      <td>Amazon Web Services provides on-demand cloud c...</td>\n",
       "    </tr>\n",
       "    <tr>\n",
       "      <th>13</th>\n",
       "      <td>Azure</td>\n",
       "      <td>https://github.com/topics/azure</td>\n",
       "      <td>Azure is a cloud computing service created by ...</td>\n",
       "    </tr>\n",
       "    <tr>\n",
       "      <th>14</th>\n",
       "      <td>Babel</td>\n",
       "      <td>https://github.com/topics/babel</td>\n",
       "      <td>Babel is a compiler for writing next generatio...</td>\n",
       "    </tr>\n",
       "    <tr>\n",
       "      <th>15</th>\n",
       "      <td>Bash</td>\n",
       "      <td>https://github.com/topics/bash</td>\n",
       "      <td>Bash is a shell and command language interpret...</td>\n",
       "    </tr>\n",
       "    <tr>\n",
       "      <th>16</th>\n",
       "      <td>Bitcoin</td>\n",
       "      <td>https://github.com/topics/bitcoin</td>\n",
       "      <td>Bitcoin is a cryptocurrency developed by Satos...</td>\n",
       "    </tr>\n",
       "    <tr>\n",
       "      <th>17</th>\n",
       "      <td>Bootstrap</td>\n",
       "      <td>https://github.com/topics/bootstrap</td>\n",
       "      <td>Bootstrap is an HTML, CSS, and JavaScript fram...</td>\n",
       "    </tr>\n",
       "    <tr>\n",
       "      <th>18</th>\n",
       "      <td>Bot</td>\n",
       "      <td>https://github.com/topics/bot</td>\n",
       "      <td>A bot is an application that runs automated ta...</td>\n",
       "    </tr>\n",
       "    <tr>\n",
       "      <th>19</th>\n",
       "      <td>C</td>\n",
       "      <td>https://github.com/topics/c</td>\n",
       "      <td>C is a general purpose programming language th...</td>\n",
       "    </tr>\n",
       "    <tr>\n",
       "      <th>20</th>\n",
       "      <td>Chrome</td>\n",
       "      <td>https://github.com/topics/chrome</td>\n",
       "      <td>Chrome is a web browser from the tech company ...</td>\n",
       "    </tr>\n",
       "    <tr>\n",
       "      <th>21</th>\n",
       "      <td>Chrome extension</td>\n",
       "      <td>https://github.com/topics/chrome-extension</td>\n",
       "      <td>Chrome extensions enable users to customize th...</td>\n",
       "    </tr>\n",
       "    <tr>\n",
       "      <th>22</th>\n",
       "      <td>Command line interface</td>\n",
       "      <td>https://github.com/topics/cli</td>\n",
       "      <td>A CLI, or command-line interface, is a console...</td>\n",
       "    </tr>\n",
       "    <tr>\n",
       "      <th>23</th>\n",
       "      <td>Clojure</td>\n",
       "      <td>https://github.com/topics/clojure</td>\n",
       "      <td>Clojure is a dynamic, general-purpose programm...</td>\n",
       "    </tr>\n",
       "    <tr>\n",
       "      <th>24</th>\n",
       "      <td>Code quality</td>\n",
       "      <td>https://github.com/topics/code-quality</td>\n",
       "      <td>Automate your code review with style, quality,...</td>\n",
       "    </tr>\n",
       "    <tr>\n",
       "      <th>25</th>\n",
       "      <td>Code review</td>\n",
       "      <td>https://github.com/topics/code-review</td>\n",
       "      <td>Ensure your code meets quality standards and s...</td>\n",
       "    </tr>\n",
       "    <tr>\n",
       "      <th>26</th>\n",
       "      <td>Compiler</td>\n",
       "      <td>https://github.com/topics/compiler</td>\n",
       "      <td>Compilers are software that translate higher-l...</td>\n",
       "    </tr>\n",
       "    <tr>\n",
       "      <th>27</th>\n",
       "      <td>Continuous integration</td>\n",
       "      <td>https://github.com/topics/continuous-integration</td>\n",
       "      <td>Automatically build and test your code as you ...</td>\n",
       "    </tr>\n",
       "    <tr>\n",
       "      <th>28</th>\n",
       "      <td>COVID-19</td>\n",
       "      <td>https://github.com/topics/covid-19</td>\n",
       "      <td>The coronavirus disease 2019 (COVID-19) is an ...</td>\n",
       "    </tr>\n",
       "    <tr>\n",
       "      <th>29</th>\n",
       "      <td>C++</td>\n",
       "      <td>https://github.com/topics/cpp</td>\n",
       "      <td>C++ is a general purpose and object-oriented p...</td>\n",
       "    </tr>\n",
       "  </tbody>\n",
       "</table>\n",
       "</div>"
      ],
      "text/plain": [
       "                     title                                               URL  \\\n",
       "0                       3D                      https://github.com/topics/3d   \n",
       "1                     Ajax                    https://github.com/topics/ajax   \n",
       "2                Algorithm               https://github.com/topics/algorithm   \n",
       "3                      Amp                   https://github.com/topics/amphp   \n",
       "4                  Android                 https://github.com/topics/android   \n",
       "5                  Angular                 https://github.com/topics/angular   \n",
       "6                  Ansible                 https://github.com/topics/ansible   \n",
       "7                      API                     https://github.com/topics/api   \n",
       "8                  Arduino                 https://github.com/topics/arduino   \n",
       "9                  ASP.NET                  https://github.com/topics/aspnet   \n",
       "10                    Atom                    https://github.com/topics/atom   \n",
       "11           Awesome Lists                 https://github.com/topics/awesome   \n",
       "12     Amazon Web Services                     https://github.com/topics/aws   \n",
       "13                   Azure                   https://github.com/topics/azure   \n",
       "14                   Babel                   https://github.com/topics/babel   \n",
       "15                    Bash                    https://github.com/topics/bash   \n",
       "16                 Bitcoin                 https://github.com/topics/bitcoin   \n",
       "17               Bootstrap               https://github.com/topics/bootstrap   \n",
       "18                     Bot                     https://github.com/topics/bot   \n",
       "19                       C                       https://github.com/topics/c   \n",
       "20                  Chrome                  https://github.com/topics/chrome   \n",
       "21        Chrome extension        https://github.com/topics/chrome-extension   \n",
       "22  Command line interface                     https://github.com/topics/cli   \n",
       "23                 Clojure                 https://github.com/topics/clojure   \n",
       "24            Code quality            https://github.com/topics/code-quality   \n",
       "25             Code review             https://github.com/topics/code-review   \n",
       "26                Compiler                https://github.com/topics/compiler   \n",
       "27  Continuous integration  https://github.com/topics/continuous-integration   \n",
       "28                COVID-19                https://github.com/topics/covid-19   \n",
       "29                     C++                     https://github.com/topics/cpp   \n",
       "\n",
       "                                          Description  \n",
       "0   3D refers to the use of three-dimensional grap...  \n",
       "1   Ajax is a technique for creating interactive w...  \n",
       "2   Algorithms are self-contained sequences that c...  \n",
       "3   Amp is a non-blocking concurrency library for ...  \n",
       "4   Android is an operating system built by Google...  \n",
       "5   Angular is an open source web application plat...  \n",
       "6   Ansible is a simple and powerful automation en...  \n",
       "7   An API (Application Programming Interface) is ...  \n",
       "8   Arduino is an open source platform for buildin...  \n",
       "9   ASP.NET is a web framework for building modern...  \n",
       "10  Atom is a open source text editor built with w...  \n",
       "11  An awesome list is a list of awesome things cu...  \n",
       "12  Amazon Web Services provides on-demand cloud c...  \n",
       "13  Azure is a cloud computing service created by ...  \n",
       "14  Babel is a compiler for writing next generatio...  \n",
       "15  Bash is a shell and command language interpret...  \n",
       "16  Bitcoin is a cryptocurrency developed by Satos...  \n",
       "17  Bootstrap is an HTML, CSS, and JavaScript fram...  \n",
       "18  A bot is an application that runs automated ta...  \n",
       "19  C is a general purpose programming language th...  \n",
       "20  Chrome is a web browser from the tech company ...  \n",
       "21  Chrome extensions enable users to customize th...  \n",
       "22  A CLI, or command-line interface, is a console...  \n",
       "23  Clojure is a dynamic, general-purpose programm...  \n",
       "24  Automate your code review with style, quality,...  \n",
       "25  Ensure your code meets quality standards and s...  \n",
       "26  Compilers are software that translate higher-l...  \n",
       "27  Automatically build and test your code as you ...  \n",
       "28  The coronavirus disease 2019 (COVID-19) is an ...  \n",
       "29  C++ is a general purpose and object-oriented p...  "
      ]
     },
     "execution_count": 35,
     "metadata": {},
     "output_type": "execute_result"
    }
   ],
   "source": [
    "git_topics_df"
   ]
  },
  {
   "cell_type": "code",
   "execution_count": 36,
   "id": "94a31dc8",
   "metadata": {},
   "outputs": [],
   "source": [
    "#generate a csv based on dataframe\n",
    "git_topics_df.to_csv('git_topics_info.csv',index= None)"
   ]
  },
  {
   "cell_type": "markdown",
   "id": "126bff01",
   "metadata": {},
   "source": [
    "## Retrieve data for specific repositories"
   ]
  },
  {
   "cell_type": "markdown",
   "id": "0333c1bc",
   "metadata": {},
   "source": [
    "#### Important section to select index of Topic as per view"
   ]
  },
  {
   "cell_type": "code",
   "execution_count": 37,
   "id": "0e714dbc",
   "metadata": {},
   "outputs": [],
   "source": [
    "git_topic_page_url = git_topic_urls[2]"
   ]
  },
  {
   "cell_type": "code",
   "execution_count": 38,
   "id": "87d36121",
   "metadata": {},
   "outputs": [
    {
     "data": {
      "text/plain": [
       "'https://github.com/topics/algorithm'"
      ]
     },
     "execution_count": 38,
     "metadata": {},
     "output_type": "execute_result"
    }
   ],
   "source": [
    "git_topic_page_url"
   ]
  },
  {
   "cell_type": "code",
   "execution_count": 39,
   "id": "0887f99d",
   "metadata": {},
   "outputs": [],
   "source": [
    "response = requests.get(git_topic_page_url)"
   ]
  },
  {
   "cell_type": "code",
   "execution_count": 40,
   "id": "a53df111",
   "metadata": {},
   "outputs": [
    {
     "data": {
      "text/plain": [
       "200"
      ]
     },
     "execution_count": 40,
     "metadata": {},
     "output_type": "execute_result"
    }
   ],
   "source": [
    "response.status_code"
   ]
  },
  {
   "cell_type": "code",
   "execution_count": 41,
   "id": "3804746f",
   "metadata": {},
   "outputs": [
    {
     "data": {
      "text/plain": [
       "467894"
      ]
     },
     "execution_count": 41,
     "metadata": {},
     "output_type": "execute_result"
    }
   ],
   "source": [
    "len(response.text)"
   ]
  },
  {
   "cell_type": "code",
   "execution_count": 42,
   "id": "07747721",
   "metadata": {},
   "outputs": [],
   "source": [
    "repo_topic_doc = BeautifulSoup(response.text, 'html.parser')"
   ]
  },
  {
   "cell_type": "code",
   "execution_count": 43,
   "id": "37ba22b0",
   "metadata": {},
   "outputs": [],
   "source": [
    "h3_selection_class = 'f3 color-fg-muted text-normal lh-condensed'\n",
    "git_repo_tags = repo_topic_doc.find_all('h3',{'class':h3_selection_class})"
   ]
  },
  {
   "cell_type": "code",
   "execution_count": 44,
   "id": "6ac86eb8",
   "metadata": {},
   "outputs": [
    {
     "data": {
      "text/plain": [
       "20"
      ]
     },
     "execution_count": 44,
     "metadata": {},
     "output_type": "execute_result"
    }
   ],
   "source": [
    "len(git_repo_tags)"
   ]
  },
  {
   "cell_type": "code",
   "execution_count": 45,
   "id": "aaebabd5",
   "metadata": {},
   "outputs": [
    {
     "data": {
      "text/plain": [
       "[<h3 class=\"f3 color-fg-muted text-normal lh-condensed\">\n",
       " <a class=\"Link\" data-hydro-click='{\"event_type\":\"explore.click\",\"payload\":{\"click_context\":\"REPOSITORY_CARD\",\"click_target\":\"OWNER\",\"click_visual_representation\":\"REPOSITORY_OWNER_HEADING\",\"actor_id\":null,\"record_id\":3771963,\"originating_url\":\"https://github.com/topics/algorithm\",\"user_id\":null}}' data-hydro-click-hmac=\"806006bf6ecca87f1d4103212d684b4f8f9d8f897c7349a1cd7e37852661db87\" data-turbo=\"false\" data-view-component=\"true\" href=\"/jwasham\">\n",
       "             jwasham\n",
       " </a>          /\n",
       "           <a class=\"Link text-bold wb-break-word\" data-hydro-click='{\"event_type\":\"explore.click\",\"payload\":{\"click_context\":\"REPOSITORY_CARD\",\"click_target\":\"REPOSITORY\",\"click_visual_representation\":\"REPOSITORY_NAME_HEADING\",\"actor_id\":null,\"record_id\":60493101,\"originating_url\":\"https://github.com/topics/algorithm\",\"user_id\":null}}' data-hydro-click-hmac=\"00d35a03113917ed4a7133838f34531a079c7e92d024d3355218293bb04b5d81\" data-turbo=\"false\" data-view-component=\"true\" href=\"/jwasham/coding-interview-university\">\n",
       "             coding-interview-university\n",
       " </a> </h3>,\n",
       " <h3 class=\"f3 color-fg-muted text-normal lh-condensed\">\n",
       " <a class=\"Link\" data-hydro-click='{\"event_type\":\"explore.click\",\"payload\":{\"click_context\":\"REPOSITORY_CARD\",\"click_target\":\"OWNER\",\"click_visual_representation\":\"REPOSITORY_OWNER_HEADING\",\"actor_id\":null,\"record_id\":3000285,\"originating_url\":\"https://github.com/topics/algorithm\",\"user_id\":null}}' data-hydro-click-hmac=\"38279c621065355c5caa83f3f4e1ccc00c3d36d69fb7cf022bc08edc418a85ad\" data-turbo=\"false\" data-view-component=\"true\" href=\"/trekhleb\">\n",
       "             trekhleb\n",
       " </a>          /\n",
       "           <a class=\"Link text-bold wb-break-word\" data-hydro-click='{\"event_type\":\"explore.click\",\"payload\":{\"click_context\":\"REPOSITORY_CARD\",\"click_target\":\"REPOSITORY\",\"click_visual_representation\":\"REPOSITORY_NAME_HEADING\",\"actor_id\":null,\"record_id\":126577260,\"originating_url\":\"https://github.com/topics/algorithm\",\"user_id\":null}}' data-hydro-click-hmac=\"8f55aa576b8182107064a2c20098a4591700e614b36c31957f4e454340f3f820\" data-turbo=\"false\" data-view-component=\"true\" href=\"/trekhleb/javascript-algorithms\">\n",
       "             javascript-algorithms\n",
       " </a> </h3>,\n",
       " <h3 class=\"f3 color-fg-muted text-normal lh-condensed\">\n",
       " <a class=\"Link\" data-hydro-click='{\"event_type\":\"explore.click\",\"payload\":{\"click_context\":\"REPOSITORY_CARD\",\"click_target\":\"OWNER\",\"click_visual_representation\":\"REPOSITORY_OWNER_HEADING\",\"actor_id\":null,\"record_id\":20487725,\"originating_url\":\"https://github.com/topics/algorithm\",\"user_id\":null}}' data-hydro-click-hmac=\"d616cb5f48ce53a7c45e1c0e5605c053be8f92c591fb523a4751e545ded241af\" data-turbo=\"false\" data-view-component=\"true\" href=\"/TheAlgorithms\">\n",
       "             TheAlgorithms\n",
       " </a>          /\n",
       "           <a class=\"Link text-bold wb-break-word\" data-hydro-click='{\"event_type\":\"explore.click\",\"payload\":{\"click_context\":\"REPOSITORY_CARD\",\"click_target\":\"REPOSITORY\",\"click_visual_representation\":\"REPOSITORY_NAME_HEADING\",\"actor_id\":null,\"record_id\":63476337,\"originating_url\":\"https://github.com/topics/algorithm\",\"user_id\":null}}' data-hydro-click-hmac=\"4839e3f07b62124ed40bafe99ba63b3cf0792a3e74cfa77bd2fd8538b1b0e022\" data-turbo=\"false\" data-view-component=\"true\" href=\"/TheAlgorithms/Python\">\n",
       "             Python\n",
       " </a> </h3>,\n",
       " <h3 class=\"f3 color-fg-muted text-normal lh-condensed\">\n",
       " <a class=\"Link\" data-hydro-click='{\"event_type\":\"explore.click\",\"payload\":{\"click_context\":\"REPOSITORY_CARD\",\"click_target\":\"OWNER\",\"click_visual_representation\":\"REPOSITORY_OWNER_HEADING\",\"actor_id\":null,\"record_id\":36260787,\"originating_url\":\"https://github.com/topics/algorithm\",\"user_id\":null}}' data-hydro-click-hmac=\"52945a4cef6e21c49eb1fb3c2ea693282e855f27822bd30a62135efe595118b4\" data-turbo=\"false\" data-view-component=\"true\" href=\"/CyC2018\">\n",
       "             CyC2018\n",
       " </a>          /\n",
       "           <a class=\"Link text-bold wb-break-word\" data-hydro-click='{\"event_type\":\"explore.click\",\"payload\":{\"click_context\":\"REPOSITORY_CARD\",\"click_target\":\"REPOSITORY\",\"click_visual_representation\":\"REPOSITORY_NAME_HEADING\",\"actor_id\":null,\"record_id\":121395510,\"originating_url\":\"https://github.com/topics/algorithm\",\"user_id\":null}}' data-hydro-click-hmac=\"1d88dfdc8a2e4fe06f05db2fff874b7a347a0a524a4f173455dc385f8b5d15cc\" data-turbo=\"false\" data-view-component=\"true\" href=\"/CyC2018/CS-Notes\">\n",
       "             CS-Notes\n",
       " </a> </h3>,\n",
       " <h3 class=\"f3 color-fg-muted text-normal lh-condensed\">\n",
       " <a class=\"Link\" data-hydro-click='{\"event_type\":\"explore.click\",\"payload\":{\"click_context\":\"REPOSITORY_CARD\",\"click_target\":\"OWNER\",\"click_visual_representation\":\"REPOSITORY_OWNER_HEADING\",\"actor_id\":null,\"record_id\":1315101,\"originating_url\":\"https://github.com/topics/algorithm\",\"user_id\":null}}' data-hydro-click-hmac=\"a636386fc8b121670e17ca067427d39528a7c97c378d5fa340bdd1790ba9a216\" data-turbo=\"false\" data-view-component=\"true\" href=\"/yangshun\">\n",
       "             yangshun\n",
       " </a>          /\n",
       "           <a class=\"Link text-bold wb-break-word\" data-hydro-click='{\"event_type\":\"explore.click\",\"payload\":{\"click_context\":\"REPOSITORY_CARD\",\"click_target\":\"REPOSITORY\",\"click_visual_representation\":\"REPOSITORY_NAME_HEADING\",\"actor_id\":null,\"record_id\":62607227,\"originating_url\":\"https://github.com/topics/algorithm\",\"user_id\":null}}' data-hydro-click-hmac=\"fb30b1bc4ea60f401a55f4662939e2128857a252ab9e284511ee307a99243e47\" data-turbo=\"false\" data-view-component=\"true\" href=\"/yangshun/tech-interview-handbook\">\n",
       "             tech-interview-handbook\n",
       " </a> </h3>,\n",
       " <h3 class=\"f3 color-fg-muted text-normal lh-condensed\">\n",
       " <a class=\"Link\" data-hydro-click='{\"event_type\":\"explore.click\",\"payload\":{\"click_context\":\"REPOSITORY_CARD\",\"click_target\":\"OWNER\",\"click_visual_representation\":\"REPOSITORY_OWNER_HEADING\",\"actor_id\":null,\"record_id\":16903644,\"originating_url\":\"https://github.com/topics/algorithm\",\"user_id\":null}}' data-hydro-click-hmac=\"00efeb5e244374fa5bcc18e9826c544f22881dc98405b934b6df7347be8ab774\" data-turbo=\"false\" data-view-component=\"true\" href=\"/kdn251\">\n",
       "             kdn251\n",
       " </a>          /\n",
       "           <a class=\"Link text-bold wb-break-word\" data-hydro-click='{\"event_type\":\"explore.click\",\"payload\":{\"click_context\":\"REPOSITORY_CARD\",\"click_target\":\"REPOSITORY\",\"click_visual_representation\":\"REPOSITORY_NAME_HEADING\",\"actor_id\":null,\"record_id\":81975372,\"originating_url\":\"https://github.com/topics/algorithm\",\"user_id\":null}}' data-hydro-click-hmac=\"ae4d125597f6100f19e599118b3c792058040f92c2ebee9028c75f38d5a05559\" data-turbo=\"false\" data-view-component=\"true\" href=\"/kdn251/interviews\">\n",
       "             interviews\n",
       " </a> </h3>,\n",
       " <h3 class=\"f3 color-fg-muted text-normal lh-condensed\">\n",
       " <a class=\"Link\" data-hydro-click='{\"event_type\":\"explore.click\",\"payload\":{\"click_context\":\"REPOSITORY_CARD\",\"click_target\":\"OWNER\",\"click_visual_representation\":\"REPOSITORY_OWNER_HEADING\",\"actor_id\":null,\"record_id\":20487725,\"originating_url\":\"https://github.com/topics/algorithm\",\"user_id\":null}}' data-hydro-click-hmac=\"d616cb5f48ce53a7c45e1c0e5605c053be8f92c591fb523a4751e545ded241af\" data-turbo=\"false\" data-view-component=\"true\" href=\"/TheAlgorithms\">\n",
       "             TheAlgorithms\n",
       " </a>          /\n",
       "           <a class=\"Link text-bold wb-break-word\" data-hydro-click='{\"event_type\":\"explore.click\",\"payload\":{\"click_context\":\"REPOSITORY_CARD\",\"click_target\":\"REPOSITORY\",\"click_visual_representation\":\"REPOSITORY_NAME_HEADING\",\"actor_id\":null,\"record_id\":63477660,\"originating_url\":\"https://github.com/topics/algorithm\",\"user_id\":null}}' data-hydro-click-hmac=\"ac956f070faca61977d43d06b51846c70fa47747508e3cda26fa266b1f3195bf\" data-turbo=\"false\" data-view-component=\"true\" href=\"/TheAlgorithms/Java\">\n",
       "             Java\n",
       " </a> </h3>,\n",
       " <h3 class=\"f3 color-fg-muted text-normal lh-condensed\">\n",
       " <a class=\"Link\" data-hydro-click='{\"event_type\":\"explore.click\",\"payload\":{\"click_context\":\"REPOSITORY_CARD\",\"click_target\":\"OWNER\",\"click_visual_representation\":\"REPOSITORY_OWNER_HEADING\",\"actor_id\":null,\"record_id\":12479470,\"originating_url\":\"https://github.com/topics/algorithm\",\"user_id\":null}}' data-hydro-click-hmac=\"ffa1ecf9a4fa6a690ced08d8362dfa64c52104ba23a7cb026da1c9318a21841f\" data-turbo=\"false\" data-view-component=\"true\" href=\"/azl397985856\">\n",
       "             azl397985856\n",
       " </a>          /\n",
       "           <a class=\"Link text-bold wb-break-word\" data-hydro-click='{\"event_type\":\"explore.click\",\"payload\":{\"click_context\":\"REPOSITORY_CARD\",\"click_target\":\"REPOSITORY\",\"click_visual_representation\":\"REPOSITORY_NAME_HEADING\",\"actor_id\":null,\"record_id\":127407957,\"originating_url\":\"https://github.com/topics/algorithm\",\"user_id\":null}}' data-hydro-click-hmac=\"3a804cbde3fd0d8ff6c0049a84c24125e4ab3ce6b70344c0ca793fb352c88194\" data-turbo=\"false\" data-view-component=\"true\" href=\"/azl397985856/leetcode\">\n",
       "             leetcode\n",
       " </a> </h3>,\n",
       " <h3 class=\"f3 color-fg-muted text-normal lh-condensed\">\n",
       " <a class=\"Link\" data-hydro-click='{\"event_type\":\"explore.click\",\"payload\":{\"click_context\":\"REPOSITORY_CARD\",\"click_target\":\"OWNER\",\"click_visual_representation\":\"REPOSITORY_OWNER_HEADING\",\"actor_id\":null,\"record_id\":38487505,\"originating_url\":\"https://github.com/topics/algorithm\",\"user_id\":null}}' data-hydro-click-hmac=\"fa4c67ffe9d79a8c461d2b06ce7bea230b2b9414ad187590d37e147d94706620\" data-turbo=\"false\" data-view-component=\"true\" href=\"/algorithm-visualizer\">\n",
       "             algorithm-visualizer\n",
       " </a>          /\n",
       "           <a class=\"Link text-bold wb-break-word\" data-hydro-click='{\"event_type\":\"explore.click\",\"payload\":{\"click_context\":\"REPOSITORY_CARD\",\"click_target\":\"REPOSITORY\",\"click_visual_representation\":\"REPOSITORY_NAME_HEADING\",\"actor_id\":null,\"record_id\":58836534,\"originating_url\":\"https://github.com/topics/algorithm\",\"user_id\":null}}' data-hydro-click-hmac=\"8413d9606d27eca6bf82cc3748383b91490682f18be3d10da2163544f155b30c\" data-turbo=\"false\" data-view-component=\"true\" href=\"/algorithm-visualizer/algorithm-visualizer\">\n",
       "             algorithm-visualizer\n",
       " </a> </h3>,\n",
       " <h3 class=\"f3 color-fg-muted text-normal lh-condensed\">\n",
       " <a class=\"Link\" data-hydro-click='{\"event_type\":\"explore.click\",\"payload\":{\"click_context\":\"REPOSITORY_CARD\",\"click_target\":\"OWNER\",\"click_visual_representation\":\"REPOSITORY_OWNER_HEADING\",\"actor_id\":null,\"record_id\":8636020,\"originating_url\":\"https://github.com/topics/algorithm\",\"user_id\":null}}' data-hydro-click-hmac=\"597c22f9bff9ec6fdf8e0a605019e6df8d42fc5957521411859d3ae9b035dee4\" data-turbo=\"false\" data-view-component=\"true\" href=\"/youngyangyang04\">\n",
       "             youngyangyang04\n",
       " </a>          /\n",
       "           <a class=\"Link text-bold wb-break-word\" data-hydro-click='{\"event_type\":\"explore.click\",\"payload\":{\"click_context\":\"REPOSITORY_CARD\",\"click_target\":\"REPOSITORY\",\"click_visual_representation\":\"REPOSITORY_NAME_HEADING\",\"actor_id\":null,\"record_id\":228016443,\"originating_url\":\"https://github.com/topics/algorithm\",\"user_id\":null}}' data-hydro-click-hmac=\"348876fe6ac3cf47c58ef262de1f6f2e81dc9da3af7edef4a9f4acb722ec27e2\" data-turbo=\"false\" data-view-component=\"true\" href=\"/youngyangyang04/leetcode-master\">\n",
       "             leetcode-master\n",
       " </a> </h3>,\n",
       " <h3 class=\"f3 color-fg-muted text-normal lh-condensed\">\n",
       " <a class=\"Link\" data-hydro-click='{\"event_type\":\"explore.click\",\"payload\":{\"click_context\":\"REPOSITORY_CARD\",\"click_target\":\"OWNER\",\"click_visual_representation\":\"REPOSITORY_OWNER_HEADING\",\"actor_id\":null,\"record_id\":26993056,\"originating_url\":\"https://github.com/topics/algorithm\",\"user_id\":null}}' data-hydro-click-hmac=\"7074ee39bc1c865990599b23d4bed6e5fcb7a59ca4af4356f99ef34fe2da511a\" data-turbo=\"false\" data-view-component=\"true\" href=\"/krahets\">\n",
       "             krahets\n",
       " </a>          /\n",
       "           <a class=\"Link text-bold wb-break-word\" data-hydro-click='{\"event_type\":\"explore.click\",\"payload\":{\"click_context\":\"REPOSITORY_CARD\",\"click_target\":\"REPOSITORY\",\"click_visual_representation\":\"REPOSITORY_NAME_HEADING\",\"actor_id\":null,\"record_id\":561730219,\"originating_url\":\"https://github.com/topics/algorithm\",\"user_id\":null}}' data-hydro-click-hmac=\"58cb663c2b7922d627fabec360abcbcd5689fcc429568d93a378654be272d48c\" data-turbo=\"false\" data-view-component=\"true\" href=\"/krahets/hello-algo\">\n",
       "             hello-algo\n",
       " </a> </h3>,\n",
       " <h3 class=\"f3 color-fg-muted text-normal lh-condensed\">\n",
       " <a class=\"Link\" data-hydro-click='{\"event_type\":\"explore.click\",\"payload\":{\"click_context\":\"REPOSITORY_CARD\",\"click_target\":\"OWNER\",\"click_visual_representation\":\"REPOSITORY_OWNER_HEADING\",\"actor_id\":null,\"record_id\":10825609,\"originating_url\":\"https://github.com/topics/algorithm\",\"user_id\":null}}' data-hydro-click-hmac=\"ff3274b5f2dcaafa1325177458f67de7328550f0103a7c85dcdbc9709aa2e89c\" data-turbo=\"false\" data-view-component=\"true\" href=\"/halfrost\">\n",
       "             halfrost\n",
       " </a>          /\n",
       "           <a class=\"Link text-bold wb-break-word\" data-hydro-click='{\"event_type\":\"explore.click\",\"payload\":{\"click_context\":\"REPOSITORY_CARD\",\"click_target\":\"REPOSITORY\",\"click_visual_representation\":\"REPOSITORY_NAME_HEADING\",\"actor_id\":null,\"record_id\":97533102,\"originating_url\":\"https://github.com/topics/algorithm\",\"user_id\":null}}' data-hydro-click-hmac=\"ab642539e35b195936ed3777f1f944a4116a97a60e33918b148b286457de7bc6\" data-turbo=\"false\" data-view-component=\"true\" href=\"/halfrost/LeetCode-Go\">\n",
       "             LeetCode-Go\n",
       " </a> </h3>,\n",
       " <h3 class=\"f3 color-fg-muted text-normal lh-condensed\">\n",
       " <a class=\"Link\" data-hydro-click='{\"event_type\":\"explore.click\",\"payload\":{\"click_context\":\"REPOSITORY_CARD\",\"click_target\":\"OWNER\",\"click_visual_representation\":\"REPOSITORY_OWNER_HEADING\",\"actor_id\":null,\"record_id\":23519480,\"originating_url\":\"https://github.com/topics/algorithm\",\"user_id\":null}}' data-hydro-click-hmac=\"e1080fee03506b359c1edbad7fb4f842f748ba556d8095e0559c741d4caa31ff\" data-turbo=\"false\" data-view-component=\"true\" href=\"/huihut\">\n",
       "             huihut\n",
       " </a>          /\n",
       "           <a class=\"Link text-bold wb-break-word\" data-hydro-click='{\"event_type\":\"explore.click\",\"payload\":{\"click_context\":\"REPOSITORY_CARD\",\"click_target\":\"REPOSITORY\",\"click_visual_representation\":\"REPOSITORY_NAME_HEADING\",\"actor_id\":null,\"record_id\":120887835,\"originating_url\":\"https://github.com/topics/algorithm\",\"user_id\":null}}' data-hydro-click-hmac=\"2aa3f82d7fb8032b61c66c35c53b92e8cc5a1261e0014a9126d589a171483e1a\" data-turbo=\"false\" data-view-component=\"true\" href=\"/huihut/interview\">\n",
       "             interview\n",
       " </a> </h3>,\n",
       " <h3 class=\"f3 color-fg-muted text-normal lh-condensed\">\n",
       " <a class=\"Link\" data-hydro-click='{\"event_type\":\"explore.click\",\"payload\":{\"click_context\":\"REPOSITORY_CARD\",\"click_target\":\"OWNER\",\"click_visual_representation\":\"REPOSITORY_OWNER_HEADING\",\"actor_id\":null,\"record_id\":20487725,\"originating_url\":\"https://github.com/topics/algorithm\",\"user_id\":null}}' data-hydro-click-hmac=\"d616cb5f48ce53a7c45e1c0e5605c053be8f92c591fb523a4751e545ded241af\" data-turbo=\"false\" data-view-component=\"true\" href=\"/TheAlgorithms\">\n",
       "             TheAlgorithms\n",
       " </a>          /\n",
       "           <a class=\"Link text-bold wb-break-word\" data-hydro-click='{\"event_type\":\"explore.click\",\"payload\":{\"click_context\":\"REPOSITORY_CARD\",\"click_target\":\"REPOSITORY\",\"click_visual_representation\":\"REPOSITORY_NAME_HEADING\",\"actor_id\":null,\"record_id\":97086543,\"originating_url\":\"https://github.com/topics/algorithm\",\"user_id\":null}}' data-hydro-click-hmac=\"631bdbe77dc98b61cc01b21a71de9557869294ce358f11d396acc3839124a065\" data-turbo=\"false\" data-view-component=\"true\" href=\"/TheAlgorithms/JavaScript\">\n",
       "             JavaScript\n",
       " </a> </h3>,\n",
       " <h3 class=\"f3 color-fg-muted text-normal lh-condensed\">\n",
       " <a class=\"Link\" data-hydro-click='{\"event_type\":\"explore.click\",\"payload\":{\"click_context\":\"REPOSITORY_CARD\",\"click_target\":\"OWNER\",\"click_visual_representation\":\"REPOSITORY_OWNER_HEADING\",\"actor_id\":null,\"record_id\":5458997,\"originating_url\":\"https://github.com/topics/algorithm\",\"user_id\":null}}' data-hydro-click-hmac=\"5583e971bcff3eedd2d7c1f81178faf12e479a6daf06bebde5bce0aa045d5d30\" data-turbo=\"false\" data-view-component=\"true\" href=\"/donnemartin\">\n",
       "             donnemartin\n",
       " </a>          /\n",
       "           <a class=\"Link text-bold wb-break-word\" data-hydro-click='{\"event_type\":\"explore.click\",\"payload\":{\"click_context\":\"REPOSITORY_CARD\",\"click_target\":\"REPOSITORY\",\"click_visual_representation\":\"REPOSITORY_NAME_HEADING\",\"actor_id\":null,\"record_id\":34757182,\"originating_url\":\"https://github.com/topics/algorithm\",\"user_id\":null}}' data-hydro-click-hmac=\"ca698efaf2d9b54e2d4a8caa651d4e3985ce6662bea66157abefc45e34cec62d\" data-turbo=\"false\" data-view-component=\"true\" href=\"/donnemartin/interactive-coding-challenges\">\n",
       "             interactive-coding-challenges\n",
       " </a> </h3>,\n",
       " <h3 class=\"f3 color-fg-muted text-normal lh-condensed\">\n",
       " <a class=\"Link\" data-hydro-click='{\"event_type\":\"explore.click\",\"payload\":{\"click_context\":\"REPOSITORY_CARD\",\"click_target\":\"OWNER\",\"click_visual_representation\":\"REPOSITORY_OWNER_HEADING\",\"actor_id\":null,\"record_id\":15684156,\"originating_url\":\"https://github.com/topics/algorithm\",\"user_id\":null}}' data-hydro-click-hmac=\"972e2851b0b70e3d1befe64dee6f9f8be1c8798979e60ee33320ae68655f508f\" data-turbo=\"false\" data-view-component=\"true\" href=\"/crossoverJie\">\n",
       "             crossoverJie\n",
       " </a>          /\n",
       "           <a class=\"Link text-bold wb-break-word\" data-hydro-click='{\"event_type\":\"explore.click\",\"payload\":{\"click_context\":\"REPOSITORY_CARD\",\"click_target\":\"REPOSITORY\",\"click_visual_representation\":\"REPOSITORY_NAME_HEADING\",\"actor_id\":null,\"record_id\":114523184,\"originating_url\":\"https://github.com/topics/algorithm\",\"user_id\":null}}' data-hydro-click-hmac=\"0ff7030ea444701a37cbf33c37ce741d8062577a918f9a58ef23d6bd25d1e5ef\" data-turbo=\"false\" data-view-component=\"true\" href=\"/crossoverJie/JCSprout\">\n",
       "             JCSprout\n",
       " </a> </h3>,\n",
       " <h3 class=\"f3 color-fg-muted text-normal lh-condensed\">\n",
       " <a class=\"Link\" data-hydro-click='{\"event_type\":\"explore.click\",\"payload\":{\"click_context\":\"REPOSITORY_CARD\",\"click_target\":\"OWNER\",\"click_visual_representation\":\"REPOSITORY_OWNER_HEADING\",\"actor_id\":null,\"record_id\":20487725,\"originating_url\":\"https://github.com/topics/algorithm\",\"user_id\":null}}' data-hydro-click-hmac=\"d616cb5f48ce53a7c45e1c0e5605c053be8f92c591fb523a4751e545ded241af\" data-turbo=\"false\" data-view-component=\"true\" href=\"/TheAlgorithms\">\n",
       "             TheAlgorithms\n",
       " </a>          /\n",
       "           <a class=\"Link text-bold wb-break-word\" data-hydro-click='{\"event_type\":\"explore.click\",\"payload\":{\"click_context\":\"REPOSITORY_CARD\",\"click_target\":\"REPOSITORY\",\"click_visual_representation\":\"REPOSITORY_NAME_HEADING\",\"actor_id\":null,\"record_id\":63477612,\"originating_url\":\"https://github.com/topics/algorithm\",\"user_id\":null}}' data-hydro-click-hmac=\"9d6d5811d1bdc466f6872ceb55955d6cb1c02ea471e7774c7bb5ade33b47d9da\" data-turbo=\"false\" data-view-component=\"true\" href=\"/TheAlgorithms/C-Plus-Plus\">\n",
       "             C-Plus-Plus\n",
       " </a> </h3>,\n",
       " <h3 class=\"f3 color-fg-muted text-normal lh-condensed\">\n",
       " <a class=\"Link\" data-hydro-click='{\"event_type\":\"explore.click\",\"payload\":{\"click_context\":\"REPOSITORY_CARD\",\"click_target\":\"OWNER\",\"click_visual_representation\":\"REPOSITORY_OWNER_HEADING\",\"actor_id\":null,\"record_id\":10793962,\"originating_url\":\"https://github.com/topics/algorithm\",\"user_id\":null}}' data-hydro-click-hmac=\"508eb5752a3aaf125b2b1e92175206a60a384996bd9d745ee4aec16cbfca0641\" data-turbo=\"false\" data-view-component=\"true\" href=\"/keon\">\n",
       "             keon\n",
       " </a>          /\n",
       "           <a class=\"Link text-bold wb-break-word\" data-hydro-click='{\"event_type\":\"explore.click\",\"payload\":{\"click_context\":\"REPOSITORY_CARD\",\"click_target\":\"REPOSITORY\",\"click_visual_representation\":\"REPOSITORY_NAME_HEADING\",\"actor_id\":null,\"record_id\":74073233,\"originating_url\":\"https://github.com/topics/algorithm\",\"user_id\":null}}' data-hydro-click-hmac=\"9e86ff60f89bc458006ea52a7b1421c6c82eb7ad7135420122adb7c456f204b8\" data-turbo=\"false\" data-view-component=\"true\" href=\"/keon/algorithms\">\n",
       "             algorithms\n",
       " </a> </h3>,\n",
       " <h3 class=\"f3 color-fg-muted text-normal lh-condensed\">\n",
       " <a class=\"Link\" data-hydro-click='{\"event_type\":\"explore.click\",\"payload\":{\"click_context\":\"REPOSITORY_CARD\",\"click_target\":\"OWNER\",\"click_visual_representation\":\"REPOSITORY_OWNER_HEADING\",\"actor_id\":null,\"record_id\":14931730,\"originating_url\":\"https://github.com/topics/algorithm\",\"user_id\":null}}' data-hydro-click-hmac=\"00336fb461c0ec2ff3bb6a9b265ea6f6e7478d23d25147f8778aa3f42abd05de\" data-turbo=\"false\" data-view-component=\"true\" href=\"/mxgmn\">\n",
       "             mxgmn\n",
       " </a>          /\n",
       "           <a class=\"Link text-bold wb-break-word\" data-hydro-click='{\"event_type\":\"explore.click\",\"payload\":{\"click_context\":\"REPOSITORY_CARD\",\"click_target\":\"REPOSITORY\",\"click_visual_representation\":\"REPOSITORY_NAME_HEADING\",\"actor_id\":null,\"record_id\":69662720,\"originating_url\":\"https://github.com/topics/algorithm\",\"user_id\":null}}' data-hydro-click-hmac=\"16a4891cb11714960d85b68cf7ec032b9dfaa63beaded27f326250b7a444b6fe\" data-turbo=\"false\" data-view-component=\"true\" href=\"/mxgmn/WaveFunctionCollapse\">\n",
       "             WaveFunctionCollapse\n",
       " </a> </h3>,\n",
       " <h3 class=\"f3 color-fg-muted text-normal lh-condensed\">\n",
       " <a class=\"Link\" data-hydro-click='{\"event_type\":\"explore.click\",\"payload\":{\"click_context\":\"REPOSITORY_CARD\",\"click_target\":\"OWNER\",\"click_visual_representation\":\"REPOSITORY_OWNER_HEADING\",\"actor_id\":null,\"record_id\":3000285,\"originating_url\":\"https://github.com/topics/algorithm\",\"user_id\":null}}' data-hydro-click-hmac=\"38279c621065355c5caa83f3f4e1ccc00c3d36d69fb7cf022bc08edc418a85ad\" data-turbo=\"false\" data-view-component=\"true\" href=\"/trekhleb\">\n",
       "             trekhleb\n",
       " </a>          /\n",
       "           <a class=\"Link text-bold wb-break-word\" data-hydro-click='{\"event_type\":\"explore.click\",\"payload\":{\"click_context\":\"REPOSITORY_CARD\",\"click_target\":\"REPOSITORY\",\"click_visual_representation\":\"REPOSITORY_NAME_HEADING\",\"actor_id\":null,\"record_id\":155662306,\"originating_url\":\"https://github.com/topics/algorithm\",\"user_id\":null}}' data-hydro-click-hmac=\"ccb243e46f0f85fdf905313872688c0aa457d1bbcc69b02a9f2dabc76986a0c6\" data-turbo=\"false\" data-view-component=\"true\" href=\"/trekhleb/homemade-machine-learning\">\n",
       "             homemade-machine-learning\n",
       " </a> </h3>]"
      ]
     },
     "execution_count": 45,
     "metadata": {},
     "output_type": "execute_result"
    }
   ],
   "source": [
    "git_repo_tags"
   ]
  },
  {
   "cell_type": "code",
   "execution_count": 46,
   "id": "c2ccd337",
   "metadata": {},
   "outputs": [],
   "source": [
    "#get data W.R.T each repository based on itsss `a` tag\n",
    "a_tags = git_repo_tags[0].find_all('a')"
   ]
  },
  {
   "cell_type": "code",
   "execution_count": 47,
   "id": "7451fe5b",
   "metadata": {},
   "outputs": [
    {
     "data": {
      "text/plain": [
       "'jwasham'"
      ]
     },
     "execution_count": 47,
     "metadata": {},
     "output_type": "execute_result"
    }
   ],
   "source": [
    "a_tags[0].text.strip()"
   ]
  },
  {
   "cell_type": "code",
   "execution_count": 48,
   "id": "2695f257",
   "metadata": {},
   "outputs": [
    {
     "data": {
      "text/plain": [
       "'coding-interview-university'"
      ]
     },
     "execution_count": 48,
     "metadata": {},
     "output_type": "execute_result"
    }
   ],
   "source": [
    "a_tags[1].text.strip()"
   ]
  },
  {
   "cell_type": "code",
   "execution_count": 49,
   "id": "60b47348",
   "metadata": {},
   "outputs": [
    {
     "data": {
      "text/plain": [
       "'https://github.com'"
      ]
     },
     "execution_count": 49,
     "metadata": {},
     "output_type": "execute_result"
    }
   ],
   "source": [
    "base_url"
   ]
  },
  {
   "cell_type": "markdown",
   "id": "018d556c",
   "metadata": {},
   "source": [
    "#### Get detials of repository author and add `base URL` value and `href`"
   ]
  },
  {
   "cell_type": "code",
   "execution_count": 50,
   "id": "3f7e0dc5",
   "metadata": {},
   "outputs": [
    {
     "name": "stdout",
     "output_type": "stream",
     "text": [
      "https://github.com/jwasham/coding-interview-university\n"
     ]
    }
   ],
   "source": [
    "a_tags[1]['href']\n",
    "repo_url = base_url + a_tags[1]['href']\n",
    "print(repo_url)\n"
   ]
  },
  {
   "cell_type": "markdown",
   "id": "994af87d",
   "metadata": {},
   "source": [
    "## Get count of `stars` of a specific repository"
   ]
  },
  {
   "cell_type": "code",
   "execution_count": 51,
   "id": "a705b759",
   "metadata": {},
   "outputs": [
    {
     "data": {
      "text/plain": [
       "20"
      ]
     },
     "execution_count": 51,
     "metadata": {},
     "output_type": "execute_result"
    }
   ],
   "source": [
    "repo_star_tags = repo_topic_doc.find_all('span',{'class': 'Counter js-social-count'})\n",
    "\n",
    "len(repo_star_tags)"
   ]
  },
  {
   "cell_type": "code",
   "execution_count": 52,
   "id": "9855f65b",
   "metadata": {},
   "outputs": [
    {
     "data": {
      "text/plain": [
       "'268k'"
      ]
     },
     "execution_count": 52,
     "metadata": {},
     "output_type": "execute_result"
    }
   ],
   "source": [
    "repo_star_tags[0].text.strip()"
   ]
  },
  {
   "cell_type": "markdown",
   "id": "d72877c9",
   "metadata": {},
   "source": [
    "## Define a function to convert `string` value to `int` and remove letter `'K'` "
   ]
  },
  {
   "cell_type": "code",
   "execution_count": 53,
   "id": "0cca2f66",
   "metadata": {},
   "outputs": [
    {
     "name": "stdout",
     "output_type": "stream",
     "text": [
      "268000\n"
     ]
    }
   ],
   "source": [
    "def parse_star_count(stars_str):\n",
    "    stars_str = stars_str.strip()\n",
    "    \n",
    "    try:\n",
    "        if stars_str[-1] == 'k':\n",
    "            return int(float(stars_str[:-1]) * 1000)\n",
    "        return int(stars_str)\n",
    "    except ValueError:\n",
    "       \n",
    "        return None \n",
    "\n",
    "# Example usage:\n",
    "star_count = parse_star_count(repo_star_tags[0].text.strip())\n",
    "if star_count is not None:\n",
    "    print(star_count)\n",
    "else:\n",
    "    print(\"Error: Unable to parse star count\")\n"
   ]
  },
  {
   "cell_type": "markdown",
   "id": "ae016009",
   "metadata": {},
   "source": [
    "## Get Repository Information including `UserName` , `URL`, `Repository Name` and `Stars`"
   ]
  },
  {
   "cell_type": "code",
   "execution_count": 54,
   "id": "ab4b6934",
   "metadata": {},
   "outputs": [],
   "source": [
    "def get_repo_info(h3_tag, star_tag):\n",
    "    #returns all information about repo\n",
    "    a_tags = h3_tag.find_all('a')\n",
    "    username = a_tags[0].text.strip()\n",
    "    repo_name = a_tags[1].text.strip()\n",
    "    repo_url = base_url + a_tags[1]['href']\n",
    "    stars = parse_star_count(star_tag.text.strip())\n",
    "    return username, repo_name, stars, repo_url"
   ]
  },
  {
   "cell_type": "code",
   "execution_count": 55,
   "id": "bb627444",
   "metadata": {},
   "outputs": [],
   "source": [
    "#repo_star_tags"
   ]
  },
  {
   "cell_type": "code",
   "execution_count": 56,
   "id": "3a078ee1",
   "metadata": {},
   "outputs": [
    {
     "data": {
      "text/plain": [
       "('TheAlgorithms', 'Python', 170000, 'https://github.com/TheAlgorithms/Python')"
      ]
     },
     "execution_count": 56,
     "metadata": {},
     "output_type": "execute_result"
    }
   ],
   "source": [
    "get_repo_info(git_repo_tags[2],repo_star_tags[2])"
   ]
  },
  {
   "cell_type": "markdown",
   "id": "0f5ab9cd",
   "metadata": {},
   "source": [
    "## Get `Repositroy Name`, `User name`, `Repository URl`, `Stars`"
   ]
  },
  {
   "cell_type": "code",
   "execution_count": 57,
   "id": "921b7790",
   "metadata": {},
   "outputs": [],
   "source": [
    "git_topics_repo_dict = {\n",
    "    'username':[],\n",
    "    'repo_name':[], \n",
    "    'stars':[],\n",
    "    'repo_url':[]\n",
    "}\n",
    "\n",
    "for i in range (len(git_repo_tags)):\n",
    "    repo_info = get_repo_info(git_repo_tags[i],repo_star_tags[i])\n",
    "    git_topics_repo_dict['username'].append(repo_info[0])\n",
    "    git_topics_repo_dict['repo_name'].append(repo_info[1])\n",
    "    git_topics_repo_dict['stars'].append(repo_info[2])\n",
    "    git_topics_repo_dict['repo_url'].append(repo_info[3])"
   ]
  },
  {
   "cell_type": "code",
   "execution_count": 58,
   "id": "f6af38cd",
   "metadata": {},
   "outputs": [
    {
     "data": {
      "text/plain": [
       "{'username': ['jwasham',\n",
       "  'trekhleb',\n",
       "  'TheAlgorithms',\n",
       "  'CyC2018',\n",
       "  'yangshun',\n",
       "  'kdn251',\n",
       "  'TheAlgorithms',\n",
       "  'azl397985856',\n",
       "  'algorithm-visualizer',\n",
       "  'youngyangyang04',\n",
       "  'krahets',\n",
       "  'halfrost',\n",
       "  'huihut',\n",
       "  'TheAlgorithms',\n",
       "  'donnemartin',\n",
       "  'crossoverJie',\n",
       "  'TheAlgorithms',\n",
       "  'keon',\n",
       "  'mxgmn',\n",
       "  'trekhleb'],\n",
       " 'repo_name': ['coding-interview-university',\n",
       "  'javascript-algorithms',\n",
       "  'Python',\n",
       "  'CS-Notes',\n",
       "  'tech-interview-handbook',\n",
       "  'interviews',\n",
       "  'Java',\n",
       "  'leetcode',\n",
       "  'algorithm-visualizer',\n",
       "  'leetcode-master',\n",
       "  'hello-algo',\n",
       "  'LeetCode-Go',\n",
       "  'interview',\n",
       "  'JavaScript',\n",
       "  'interactive-coding-challenges',\n",
       "  'JCSprout',\n",
       "  'C-Plus-Plus',\n",
       "  'algorithms',\n",
       "  'WaveFunctionCollapse',\n",
       "  'homemade-machine-learning'],\n",
       " 'stars': [268000,\n",
       "  176000,\n",
       "  170000,\n",
       "  167000,\n",
       "  95600,\n",
       "  60400,\n",
       "  53800,\n",
       "  52500,\n",
       "  44500,\n",
       "  42300,\n",
       "  35600,\n",
       "  30600,\n",
       "  30500,\n",
       "  28300,\n",
       "  27900,\n",
       "  27000,\n",
       "  26100,\n",
       "  23000,\n",
       "  21800,\n",
       "  21800],\n",
       " 'repo_url': ['https://github.com/jwasham/coding-interview-university',\n",
       "  'https://github.com/trekhleb/javascript-algorithms',\n",
       "  'https://github.com/TheAlgorithms/Python',\n",
       "  'https://github.com/CyC2018/CS-Notes',\n",
       "  'https://github.com/yangshun/tech-interview-handbook',\n",
       "  'https://github.com/kdn251/interviews',\n",
       "  'https://github.com/TheAlgorithms/Java',\n",
       "  'https://github.com/azl397985856/leetcode',\n",
       "  'https://github.com/algorithm-visualizer/algorithm-visualizer',\n",
       "  'https://github.com/youngyangyang04/leetcode-master',\n",
       "  'https://github.com/krahets/hello-algo',\n",
       "  'https://github.com/halfrost/LeetCode-Go',\n",
       "  'https://github.com/huihut/interview',\n",
       "  'https://github.com/TheAlgorithms/JavaScript',\n",
       "  'https://github.com/donnemartin/interactive-coding-challenges',\n",
       "  'https://github.com/crossoverJie/JCSprout',\n",
       "  'https://github.com/TheAlgorithms/C-Plus-Plus',\n",
       "  'https://github.com/keon/algorithms',\n",
       "  'https://github.com/mxgmn/WaveFunctionCollapse',\n",
       "  'https://github.com/trekhleb/homemade-machine-learning']}"
      ]
     },
     "execution_count": 58,
     "metadata": {},
     "output_type": "execute_result"
    }
   ],
   "source": [
    "git_topics_repo_dict\n"
   ]
  },
  {
   "cell_type": "code",
   "execution_count": 59,
   "id": "fcb4e869",
   "metadata": {},
   "outputs": [],
   "source": [
    "topic_repos_df = pd.DataFrame(git_topics_repo_dict)"
   ]
  },
  {
   "cell_type": "code",
   "execution_count": 60,
   "id": "65733d8e",
   "metadata": {},
   "outputs": [
    {
     "data": {
      "text/html": [
       "<div>\n",
       "<style scoped>\n",
       "    .dataframe tbody tr th:only-of-type {\n",
       "        vertical-align: middle;\n",
       "    }\n",
       "\n",
       "    .dataframe tbody tr th {\n",
       "        vertical-align: top;\n",
       "    }\n",
       "\n",
       "    .dataframe thead th {\n",
       "        text-align: right;\n",
       "    }\n",
       "</style>\n",
       "<table border=\"1\" class=\"dataframe\">\n",
       "  <thead>\n",
       "    <tr style=\"text-align: right;\">\n",
       "      <th></th>\n",
       "      <th>username</th>\n",
       "      <th>repo_name</th>\n",
       "      <th>stars</th>\n",
       "      <th>repo_url</th>\n",
       "    </tr>\n",
       "  </thead>\n",
       "  <tbody>\n",
       "    <tr>\n",
       "      <th>0</th>\n",
       "      <td>jwasham</td>\n",
       "      <td>coding-interview-university</td>\n",
       "      <td>268000</td>\n",
       "      <td>https://github.com/jwasham/coding-interview-un...</td>\n",
       "    </tr>\n",
       "    <tr>\n",
       "      <th>1</th>\n",
       "      <td>trekhleb</td>\n",
       "      <td>javascript-algorithms</td>\n",
       "      <td>176000</td>\n",
       "      <td>https://github.com/trekhleb/javascript-algorithms</td>\n",
       "    </tr>\n",
       "    <tr>\n",
       "      <th>2</th>\n",
       "      <td>TheAlgorithms</td>\n",
       "      <td>Python</td>\n",
       "      <td>170000</td>\n",
       "      <td>https://github.com/TheAlgorithms/Python</td>\n",
       "    </tr>\n",
       "    <tr>\n",
       "      <th>3</th>\n",
       "      <td>CyC2018</td>\n",
       "      <td>CS-Notes</td>\n",
       "      <td>167000</td>\n",
       "      <td>https://github.com/CyC2018/CS-Notes</td>\n",
       "    </tr>\n",
       "    <tr>\n",
       "      <th>4</th>\n",
       "      <td>yangshun</td>\n",
       "      <td>tech-interview-handbook</td>\n",
       "      <td>95600</td>\n",
       "      <td>https://github.com/yangshun/tech-interview-han...</td>\n",
       "    </tr>\n",
       "    <tr>\n",
       "      <th>5</th>\n",
       "      <td>kdn251</td>\n",
       "      <td>interviews</td>\n",
       "      <td>60400</td>\n",
       "      <td>https://github.com/kdn251/interviews</td>\n",
       "    </tr>\n",
       "    <tr>\n",
       "      <th>6</th>\n",
       "      <td>TheAlgorithms</td>\n",
       "      <td>Java</td>\n",
       "      <td>53800</td>\n",
       "      <td>https://github.com/TheAlgorithms/Java</td>\n",
       "    </tr>\n",
       "    <tr>\n",
       "      <th>7</th>\n",
       "      <td>azl397985856</td>\n",
       "      <td>leetcode</td>\n",
       "      <td>52500</td>\n",
       "      <td>https://github.com/azl397985856/leetcode</td>\n",
       "    </tr>\n",
       "    <tr>\n",
       "      <th>8</th>\n",
       "      <td>algorithm-visualizer</td>\n",
       "      <td>algorithm-visualizer</td>\n",
       "      <td>44500</td>\n",
       "      <td>https://github.com/algorithm-visualizer/algori...</td>\n",
       "    </tr>\n",
       "    <tr>\n",
       "      <th>9</th>\n",
       "      <td>youngyangyang04</td>\n",
       "      <td>leetcode-master</td>\n",
       "      <td>42300</td>\n",
       "      <td>https://github.com/youngyangyang04/leetcode-ma...</td>\n",
       "    </tr>\n",
       "    <tr>\n",
       "      <th>10</th>\n",
       "      <td>krahets</td>\n",
       "      <td>hello-algo</td>\n",
       "      <td>35600</td>\n",
       "      <td>https://github.com/krahets/hello-algo</td>\n",
       "    </tr>\n",
       "    <tr>\n",
       "      <th>11</th>\n",
       "      <td>halfrost</td>\n",
       "      <td>LeetCode-Go</td>\n",
       "      <td>30600</td>\n",
       "      <td>https://github.com/halfrost/LeetCode-Go</td>\n",
       "    </tr>\n",
       "    <tr>\n",
       "      <th>12</th>\n",
       "      <td>huihut</td>\n",
       "      <td>interview</td>\n",
       "      <td>30500</td>\n",
       "      <td>https://github.com/huihut/interview</td>\n",
       "    </tr>\n",
       "    <tr>\n",
       "      <th>13</th>\n",
       "      <td>TheAlgorithms</td>\n",
       "      <td>JavaScript</td>\n",
       "      <td>28300</td>\n",
       "      <td>https://github.com/TheAlgorithms/JavaScript</td>\n",
       "    </tr>\n",
       "    <tr>\n",
       "      <th>14</th>\n",
       "      <td>donnemartin</td>\n",
       "      <td>interactive-coding-challenges</td>\n",
       "      <td>27900</td>\n",
       "      <td>https://github.com/donnemartin/interactive-cod...</td>\n",
       "    </tr>\n",
       "    <tr>\n",
       "      <th>15</th>\n",
       "      <td>crossoverJie</td>\n",
       "      <td>JCSprout</td>\n",
       "      <td>27000</td>\n",
       "      <td>https://github.com/crossoverJie/JCSprout</td>\n",
       "    </tr>\n",
       "    <tr>\n",
       "      <th>16</th>\n",
       "      <td>TheAlgorithms</td>\n",
       "      <td>C-Plus-Plus</td>\n",
       "      <td>26100</td>\n",
       "      <td>https://github.com/TheAlgorithms/C-Plus-Plus</td>\n",
       "    </tr>\n",
       "    <tr>\n",
       "      <th>17</th>\n",
       "      <td>keon</td>\n",
       "      <td>algorithms</td>\n",
       "      <td>23000</td>\n",
       "      <td>https://github.com/keon/algorithms</td>\n",
       "    </tr>\n",
       "    <tr>\n",
       "      <th>18</th>\n",
       "      <td>mxgmn</td>\n",
       "      <td>WaveFunctionCollapse</td>\n",
       "      <td>21800</td>\n",
       "      <td>https://github.com/mxgmn/WaveFunctionCollapse</td>\n",
       "    </tr>\n",
       "    <tr>\n",
       "      <th>19</th>\n",
       "      <td>trekhleb</td>\n",
       "      <td>homemade-machine-learning</td>\n",
       "      <td>21800</td>\n",
       "      <td>https://github.com/trekhleb/homemade-machine-l...</td>\n",
       "    </tr>\n",
       "  </tbody>\n",
       "</table>\n",
       "</div>"
      ],
      "text/plain": [
       "                username                      repo_name   stars  \\\n",
       "0                jwasham    coding-interview-university  268000   \n",
       "1               trekhleb          javascript-algorithms  176000   \n",
       "2          TheAlgorithms                         Python  170000   \n",
       "3                CyC2018                       CS-Notes  167000   \n",
       "4               yangshun        tech-interview-handbook   95600   \n",
       "5                 kdn251                     interviews   60400   \n",
       "6          TheAlgorithms                           Java   53800   \n",
       "7           azl397985856                       leetcode   52500   \n",
       "8   algorithm-visualizer           algorithm-visualizer   44500   \n",
       "9        youngyangyang04                leetcode-master   42300   \n",
       "10               krahets                     hello-algo   35600   \n",
       "11              halfrost                    LeetCode-Go   30600   \n",
       "12                huihut                      interview   30500   \n",
       "13         TheAlgorithms                     JavaScript   28300   \n",
       "14           donnemartin  interactive-coding-challenges   27900   \n",
       "15          crossoverJie                       JCSprout   27000   \n",
       "16         TheAlgorithms                    C-Plus-Plus   26100   \n",
       "17                  keon                     algorithms   23000   \n",
       "18                 mxgmn           WaveFunctionCollapse   21800   \n",
       "19              trekhleb      homemade-machine-learning   21800   \n",
       "\n",
       "                                             repo_url  \n",
       "0   https://github.com/jwasham/coding-interview-un...  \n",
       "1   https://github.com/trekhleb/javascript-algorithms  \n",
       "2             https://github.com/TheAlgorithms/Python  \n",
       "3                 https://github.com/CyC2018/CS-Notes  \n",
       "4   https://github.com/yangshun/tech-interview-han...  \n",
       "5                https://github.com/kdn251/interviews  \n",
       "6               https://github.com/TheAlgorithms/Java  \n",
       "7            https://github.com/azl397985856/leetcode  \n",
       "8   https://github.com/algorithm-visualizer/algori...  \n",
       "9   https://github.com/youngyangyang04/leetcode-ma...  \n",
       "10              https://github.com/krahets/hello-algo  \n",
       "11            https://github.com/halfrost/LeetCode-Go  \n",
       "12                https://github.com/huihut/interview  \n",
       "13        https://github.com/TheAlgorithms/JavaScript  \n",
       "14  https://github.com/donnemartin/interactive-cod...  \n",
       "15           https://github.com/crossoverJie/JCSprout  \n",
       "16       https://github.com/TheAlgorithms/C-Plus-Plus  \n",
       "17                 https://github.com/keon/algorithms  \n",
       "18      https://github.com/mxgmn/WaveFunctionCollapse  \n",
       "19  https://github.com/trekhleb/homemade-machine-l...  "
      ]
     },
     "execution_count": 60,
     "metadata": {},
     "output_type": "execute_result"
    }
   ],
   "source": [
    "topic_repos_df"
   ]
  },
  {
   "cell_type": "markdown",
   "id": "e421348b",
   "metadata": {},
   "source": [
    "## Function to get topic page details and get repository information along `Stars` and `URl`"
   ]
  },
  {
   "cell_type": "code",
   "execution_count": 61,
   "id": "69b33220",
   "metadata": {},
   "outputs": [],
   "source": [
    "def get_topic_page(git_topic_page_url):\n",
    "    # Download page\n",
    "    response = requests.get(git_topic_page_url)\n",
    "    \n",
    "    # Check response\n",
    "    if response.status_code != 200:\n",
    "        raise Exception('Failed to load page {}'.format(git_topic_page_url))\n",
    "    \n",
    "    topic_doc = BeautifulSoup(response.text, 'html.parser')\n",
    "    return topic_doc\n",
    "\n",
    "def get_repo_info(h3_tag, repo_star_tag):\n",
    "    # Returns all info about repo\n",
    "    a_tags = h3_tag.find_all('a')\n",
    "    username = a_tags[0].text.strip()\n",
    "    repo_name = a_tags[1].text.strip()\n",
    "    repo_url = base_url + a_tags[1]['href']\n",
    "    stars = parse_star_count(repo_star_tag.text.strip())\n",
    "    return username, repo_name, stars, repo_url\n",
    "\n",
    "def get_topic_repos(topic_doc):\n",
    "    # Get h3 tag with repo title, repo URL, and username\n",
    "    h3_selection_class = 'f3 color-fg-muted text-normal lh-condensed'\n",
    "    repo_tags = topic_doc.find_all('h3', {'class': h3_selection_class})\n",
    "    \n",
    "    # Get star tag\n",
    "    star_tags = topic_doc.find_all('span', {'class': 'Counter js-social-count'})\n",
    "    \n",
    "    git_topics_repo_dict = {\n",
    "        'username': [],\n",
    "        'repo_name': [],\n",
    "        'stars': [],\n",
    "        'repo_url': []\n",
    "    }\n",
    "\n",
    "    for i in range(len(git_repo_tags)):\n",
    "        repo_info = get_repo_info(repo_tags[i], repo_star_tags[i])\n",
    "        git_topics_repo_dict['username'].append(repo_info[0])\n",
    "        git_topics_repo_dict['repo_name'].append(repo_info[1])\n",
    "        git_topics_repo_dict['stars'].append(repo_info[2])\n",
    "        git_topics_repo_dict['repo_url'].append(repo_info[3])\n",
    "\n",
    "    return pd.DataFrame(git_topics_repo_dict)\n"
   ]
  },
  {
   "cell_type": "code",
   "execution_count": 62,
   "id": "fdda6f59",
   "metadata": {},
   "outputs": [
    {
     "data": {
      "text/plain": [
       "'https://github.com/topics/algorithm'"
      ]
     },
     "execution_count": 62,
     "metadata": {},
     "output_type": "execute_result"
    }
   ],
   "source": [
    "url_trial = git_topic_urls[2]\n",
    "url_trial"
   ]
  },
  {
   "cell_type": "code",
   "execution_count": 63,
   "id": "62abc809",
   "metadata": {},
   "outputs": [],
   "source": [
    "topic_trial_doc = get_topic_page(url_trial)\n",
    "#topic4_doc"
   ]
  },
  {
   "cell_type": "code",
   "execution_count": 64,
   "id": "e3c21646",
   "metadata": {},
   "outputs": [],
   "source": [
    "topic_trial_repos = get_topic_repos(topic_trial_doc)"
   ]
  },
  {
   "cell_type": "code",
   "execution_count": 65,
   "id": "a0d40457",
   "metadata": {},
   "outputs": [
    {
     "data": {
      "text/html": [
       "<div>\n",
       "<style scoped>\n",
       "    .dataframe tbody tr th:only-of-type {\n",
       "        vertical-align: middle;\n",
       "    }\n",
       "\n",
       "    .dataframe tbody tr th {\n",
       "        vertical-align: top;\n",
       "    }\n",
       "\n",
       "    .dataframe thead th {\n",
       "        text-align: right;\n",
       "    }\n",
       "</style>\n",
       "<table border=\"1\" class=\"dataframe\">\n",
       "  <thead>\n",
       "    <tr style=\"text-align: right;\">\n",
       "      <th></th>\n",
       "      <th>username</th>\n",
       "      <th>repo_name</th>\n",
       "      <th>stars</th>\n",
       "      <th>repo_url</th>\n",
       "    </tr>\n",
       "  </thead>\n",
       "  <tbody>\n",
       "    <tr>\n",
       "      <th>0</th>\n",
       "      <td>jwasham</td>\n",
       "      <td>coding-interview-university</td>\n",
       "      <td>268000</td>\n",
       "      <td>https://github.com/jwasham/coding-interview-un...</td>\n",
       "    </tr>\n",
       "    <tr>\n",
       "      <th>1</th>\n",
       "      <td>trekhleb</td>\n",
       "      <td>javascript-algorithms</td>\n",
       "      <td>176000</td>\n",
       "      <td>https://github.com/trekhleb/javascript-algorithms</td>\n",
       "    </tr>\n",
       "    <tr>\n",
       "      <th>2</th>\n",
       "      <td>TheAlgorithms</td>\n",
       "      <td>Python</td>\n",
       "      <td>170000</td>\n",
       "      <td>https://github.com/TheAlgorithms/Python</td>\n",
       "    </tr>\n",
       "    <tr>\n",
       "      <th>3</th>\n",
       "      <td>CyC2018</td>\n",
       "      <td>CS-Notes</td>\n",
       "      <td>167000</td>\n",
       "      <td>https://github.com/CyC2018/CS-Notes</td>\n",
       "    </tr>\n",
       "    <tr>\n",
       "      <th>4</th>\n",
       "      <td>yangshun</td>\n",
       "      <td>tech-interview-handbook</td>\n",
       "      <td>95600</td>\n",
       "      <td>https://github.com/yangshun/tech-interview-han...</td>\n",
       "    </tr>\n",
       "    <tr>\n",
       "      <th>5</th>\n",
       "      <td>kdn251</td>\n",
       "      <td>interviews</td>\n",
       "      <td>60400</td>\n",
       "      <td>https://github.com/kdn251/interviews</td>\n",
       "    </tr>\n",
       "    <tr>\n",
       "      <th>6</th>\n",
       "      <td>TheAlgorithms</td>\n",
       "      <td>Java</td>\n",
       "      <td>53800</td>\n",
       "      <td>https://github.com/TheAlgorithms/Java</td>\n",
       "    </tr>\n",
       "    <tr>\n",
       "      <th>7</th>\n",
       "      <td>azl397985856</td>\n",
       "      <td>leetcode</td>\n",
       "      <td>52500</td>\n",
       "      <td>https://github.com/azl397985856/leetcode</td>\n",
       "    </tr>\n",
       "    <tr>\n",
       "      <th>8</th>\n",
       "      <td>algorithm-visualizer</td>\n",
       "      <td>algorithm-visualizer</td>\n",
       "      <td>44500</td>\n",
       "      <td>https://github.com/algorithm-visualizer/algori...</td>\n",
       "    </tr>\n",
       "    <tr>\n",
       "      <th>9</th>\n",
       "      <td>youngyangyang04</td>\n",
       "      <td>leetcode-master</td>\n",
       "      <td>42300</td>\n",
       "      <td>https://github.com/youngyangyang04/leetcode-ma...</td>\n",
       "    </tr>\n",
       "    <tr>\n",
       "      <th>10</th>\n",
       "      <td>krahets</td>\n",
       "      <td>hello-algo</td>\n",
       "      <td>35600</td>\n",
       "      <td>https://github.com/krahets/hello-algo</td>\n",
       "    </tr>\n",
       "    <tr>\n",
       "      <th>11</th>\n",
       "      <td>halfrost</td>\n",
       "      <td>LeetCode-Go</td>\n",
       "      <td>30600</td>\n",
       "      <td>https://github.com/halfrost/LeetCode-Go</td>\n",
       "    </tr>\n",
       "    <tr>\n",
       "      <th>12</th>\n",
       "      <td>huihut</td>\n",
       "      <td>interview</td>\n",
       "      <td>30500</td>\n",
       "      <td>https://github.com/huihut/interview</td>\n",
       "    </tr>\n",
       "    <tr>\n",
       "      <th>13</th>\n",
       "      <td>TheAlgorithms</td>\n",
       "      <td>JavaScript</td>\n",
       "      <td>28300</td>\n",
       "      <td>https://github.com/TheAlgorithms/JavaScript</td>\n",
       "    </tr>\n",
       "    <tr>\n",
       "      <th>14</th>\n",
       "      <td>donnemartin</td>\n",
       "      <td>interactive-coding-challenges</td>\n",
       "      <td>27900</td>\n",
       "      <td>https://github.com/donnemartin/interactive-cod...</td>\n",
       "    </tr>\n",
       "    <tr>\n",
       "      <th>15</th>\n",
       "      <td>crossoverJie</td>\n",
       "      <td>JCSprout</td>\n",
       "      <td>27000</td>\n",
       "      <td>https://github.com/crossoverJie/JCSprout</td>\n",
       "    </tr>\n",
       "    <tr>\n",
       "      <th>16</th>\n",
       "      <td>TheAlgorithms</td>\n",
       "      <td>C-Plus-Plus</td>\n",
       "      <td>26100</td>\n",
       "      <td>https://github.com/TheAlgorithms/C-Plus-Plus</td>\n",
       "    </tr>\n",
       "    <tr>\n",
       "      <th>17</th>\n",
       "      <td>keon</td>\n",
       "      <td>algorithms</td>\n",
       "      <td>23000</td>\n",
       "      <td>https://github.com/keon/algorithms</td>\n",
       "    </tr>\n",
       "    <tr>\n",
       "      <th>18</th>\n",
       "      <td>mxgmn</td>\n",
       "      <td>WaveFunctionCollapse</td>\n",
       "      <td>21800</td>\n",
       "      <td>https://github.com/mxgmn/WaveFunctionCollapse</td>\n",
       "    </tr>\n",
       "    <tr>\n",
       "      <th>19</th>\n",
       "      <td>trekhleb</td>\n",
       "      <td>homemade-machine-learning</td>\n",
       "      <td>21800</td>\n",
       "      <td>https://github.com/trekhleb/homemade-machine-l...</td>\n",
       "    </tr>\n",
       "  </tbody>\n",
       "</table>\n",
       "</div>"
      ],
      "text/plain": [
       "                username                      repo_name   stars  \\\n",
       "0                jwasham    coding-interview-university  268000   \n",
       "1               trekhleb          javascript-algorithms  176000   \n",
       "2          TheAlgorithms                         Python  170000   \n",
       "3                CyC2018                       CS-Notes  167000   \n",
       "4               yangshun        tech-interview-handbook   95600   \n",
       "5                 kdn251                     interviews   60400   \n",
       "6          TheAlgorithms                           Java   53800   \n",
       "7           azl397985856                       leetcode   52500   \n",
       "8   algorithm-visualizer           algorithm-visualizer   44500   \n",
       "9        youngyangyang04                leetcode-master   42300   \n",
       "10               krahets                     hello-algo   35600   \n",
       "11              halfrost                    LeetCode-Go   30600   \n",
       "12                huihut                      interview   30500   \n",
       "13         TheAlgorithms                     JavaScript   28300   \n",
       "14           donnemartin  interactive-coding-challenges   27900   \n",
       "15          crossoverJie                       JCSprout   27000   \n",
       "16         TheAlgorithms                    C-Plus-Plus   26100   \n",
       "17                  keon                     algorithms   23000   \n",
       "18                 mxgmn           WaveFunctionCollapse   21800   \n",
       "19              trekhleb      homemade-machine-learning   21800   \n",
       "\n",
       "                                             repo_url  \n",
       "0   https://github.com/jwasham/coding-interview-un...  \n",
       "1   https://github.com/trekhleb/javascript-algorithms  \n",
       "2             https://github.com/TheAlgorithms/Python  \n",
       "3                 https://github.com/CyC2018/CS-Notes  \n",
       "4   https://github.com/yangshun/tech-interview-han...  \n",
       "5                https://github.com/kdn251/interviews  \n",
       "6               https://github.com/TheAlgorithms/Java  \n",
       "7            https://github.com/azl397985856/leetcode  \n",
       "8   https://github.com/algorithm-visualizer/algori...  \n",
       "9   https://github.com/youngyangyang04/leetcode-ma...  \n",
       "10              https://github.com/krahets/hello-algo  \n",
       "11            https://github.com/halfrost/LeetCode-Go  \n",
       "12                https://github.com/huihut/interview  \n",
       "13        https://github.com/TheAlgorithms/JavaScript  \n",
       "14  https://github.com/donnemartin/interactive-cod...  \n",
       "15           https://github.com/crossoverJie/JCSprout  \n",
       "16       https://github.com/TheAlgorithms/C-Plus-Plus  \n",
       "17                 https://github.com/keon/algorithms  \n",
       "18      https://github.com/mxgmn/WaveFunctionCollapse  \n",
       "19  https://github.com/trekhleb/homemade-machine-l...  "
      ]
     },
     "execution_count": 65,
     "metadata": {},
     "output_type": "execute_result"
    }
   ],
   "source": [
    "topic_trial_repos"
   ]
  },
  {
   "cell_type": "code",
   "execution_count": 66,
   "id": "c505d82a",
   "metadata": {},
   "outputs": [],
   "source": [
    "#get_topic_repos(get_topic_page(git_topic_urls[2]))"
   ]
  },
  {
   "cell_type": "code",
   "execution_count": 67,
   "id": "870b736b",
   "metadata": {},
   "outputs": [],
   "source": [
    "#get_topic_repos(get_topic_page(topic_urls[4])).to_csv('android.csv',index = None)"
   ]
  },
  {
   "cell_type": "code",
   "execution_count": 68,
   "id": "d6e9567c",
   "metadata": {},
   "outputs": [],
   "source": [
    "#topic_urls[5]"
   ]
  },
  {
   "cell_type": "markdown",
   "id": "f951b70a",
   "metadata": {},
   "source": [
    "## Function to mention Title number to generate Repository list `csv` file"
   ]
  },
  {
   "cell_type": "code",
   "execution_count": 69,
   "id": "c4196749",
   "metadata": {},
   "outputs": [
    {
     "name": "stdout",
     "output_type": "stream",
     "text": [
      "Scraping top repositories for \"amphp\":\n"
     ]
    },
    {
     "data": {
      "text/html": [
       "<div>\n",
       "<style scoped>\n",
       "    .dataframe tbody tr th:only-of-type {\n",
       "        vertical-align: middle;\n",
       "    }\n",
       "\n",
       "    .dataframe tbody tr th {\n",
       "        vertical-align: top;\n",
       "    }\n",
       "\n",
       "    .dataframe thead th {\n",
       "        text-align: right;\n",
       "    }\n",
       "</style>\n",
       "<table border=\"1\" class=\"dataframe\">\n",
       "  <thead>\n",
       "    <tr style=\"text-align: right;\">\n",
       "      <th></th>\n",
       "      <th>username</th>\n",
       "      <th>repo_name</th>\n",
       "      <th>stars</th>\n",
       "      <th>repo_url</th>\n",
       "    </tr>\n",
       "  </thead>\n",
       "  <tbody>\n",
       "    <tr>\n",
       "      <th>0</th>\n",
       "      <td>amphp</td>\n",
       "      <td>amp</td>\n",
       "      <td>268000</td>\n",
       "      <td>https://github.com/amphp/amp</td>\n",
       "    </tr>\n",
       "    <tr>\n",
       "      <th>1</th>\n",
       "      <td>danog</td>\n",
       "      <td>MadelineProto</td>\n",
       "      <td>176000</td>\n",
       "      <td>https://github.com/danog/MadelineProto</td>\n",
       "    </tr>\n",
       "    <tr>\n",
       "      <th>2</th>\n",
       "      <td>unreal4u</td>\n",
       "      <td>telegram-api</td>\n",
       "      <td>170000</td>\n",
       "      <td>https://github.com/unreal4u/telegram-api</td>\n",
       "    </tr>\n",
       "    <tr>\n",
       "      <th>3</th>\n",
       "      <td>amphp</td>\n",
       "      <td>parallel</td>\n",
       "      <td>167000</td>\n",
       "      <td>https://github.com/amphp/parallel</td>\n",
       "    </tr>\n",
       "    <tr>\n",
       "      <th>4</th>\n",
       "      <td>amphp</td>\n",
       "      <td>http-client</td>\n",
       "      <td>95600</td>\n",
       "      <td>https://github.com/amphp/http-client</td>\n",
       "    </tr>\n",
       "    <tr>\n",
       "      <th>5</th>\n",
       "      <td>amphp</td>\n",
       "      <td>byte-stream</td>\n",
       "      <td>60400</td>\n",
       "      <td>https://github.com/amphp/byte-stream</td>\n",
       "    </tr>\n",
       "    <tr>\n",
       "      <th>6</th>\n",
       "      <td>php-service-bus</td>\n",
       "      <td>service-bus</td>\n",
       "      <td>53800</td>\n",
       "      <td>https://github.com/php-service-bus/service-bus</td>\n",
       "    </tr>\n",
       "    <tr>\n",
       "      <th>7</th>\n",
       "      <td>amphp</td>\n",
       "      <td>mysql</td>\n",
       "      <td>52500</td>\n",
       "      <td>https://github.com/amphp/mysql</td>\n",
       "    </tr>\n",
       "    <tr>\n",
       "      <th>8</th>\n",
       "      <td>amphp</td>\n",
       "      <td>parallel-functions</td>\n",
       "      <td>44500</td>\n",
       "      <td>https://github.com/amphp/parallel-functions</td>\n",
       "    </tr>\n",
       "    <tr>\n",
       "      <th>9</th>\n",
       "      <td>amphp</td>\n",
       "      <td>process</td>\n",
       "      <td>42300</td>\n",
       "      <td>https://github.com/amphp/process</td>\n",
       "    </tr>\n",
       "    <tr>\n",
       "      <th>10</th>\n",
       "      <td>amphp</td>\n",
       "      <td>socket</td>\n",
       "      <td>35600</td>\n",
       "      <td>https://github.com/amphp/socket</td>\n",
       "    </tr>\n",
       "    <tr>\n",
       "      <th>11</th>\n",
       "      <td>xtrime-ru</td>\n",
       "      <td>TelegramRSS</td>\n",
       "      <td>30600</td>\n",
       "      <td>https://github.com/xtrime-ru/TelegramRSS</td>\n",
       "    </tr>\n",
       "    <tr>\n",
       "      <th>12</th>\n",
       "      <td>amphp</td>\n",
       "      <td>sync</td>\n",
       "      <td>30500</td>\n",
       "      <td>https://github.com/amphp/sync</td>\n",
       "    </tr>\n",
       "    <tr>\n",
       "      <th>13</th>\n",
       "      <td>amphp</td>\n",
       "      <td>dns</td>\n",
       "      <td>28300</td>\n",
       "      <td>https://github.com/amphp/dns</td>\n",
       "    </tr>\n",
       "    <tr>\n",
       "      <th>14</th>\n",
       "      <td>amphp</td>\n",
       "      <td>redis</td>\n",
       "      <td>27900</td>\n",
       "      <td>https://github.com/amphp/redis</td>\n",
       "    </tr>\n",
       "    <tr>\n",
       "      <th>15</th>\n",
       "      <td>amphp</td>\n",
       "      <td>websocket-client</td>\n",
       "      <td>27000</td>\n",
       "      <td>https://github.com/amphp/websocket-client</td>\n",
       "    </tr>\n",
       "    <tr>\n",
       "      <th>16</th>\n",
       "      <td>kelunik</td>\n",
       "      <td>acme</td>\n",
       "      <td>26100</td>\n",
       "      <td>https://github.com/kelunik/acme</td>\n",
       "    </tr>\n",
       "    <tr>\n",
       "      <th>17</th>\n",
       "      <td>amphp</td>\n",
       "      <td>serialization</td>\n",
       "      <td>23000</td>\n",
       "      <td>https://github.com/amphp/serialization</td>\n",
       "    </tr>\n",
       "    <tr>\n",
       "      <th>18</th>\n",
       "      <td>amphp</td>\n",
       "      <td>websocket-server</td>\n",
       "      <td>21800</td>\n",
       "      <td>https://github.com/amphp/websocket-server</td>\n",
       "    </tr>\n",
       "    <tr>\n",
       "      <th>19</th>\n",
       "      <td>PeeHaa</td>\n",
       "      <td>mailgrab</td>\n",
       "      <td>21800</td>\n",
       "      <td>https://github.com/PeeHaa/mailgrab</td>\n",
       "    </tr>\n",
       "  </tbody>\n",
       "</table>\n",
       "</div>"
      ],
      "text/plain": [
       "           username           repo_name   stars  \\\n",
       "0             amphp                 amp  268000   \n",
       "1             danog       MadelineProto  176000   \n",
       "2          unreal4u        telegram-api  170000   \n",
       "3             amphp            parallel  167000   \n",
       "4             amphp         http-client   95600   \n",
       "5             amphp         byte-stream   60400   \n",
       "6   php-service-bus         service-bus   53800   \n",
       "7             amphp               mysql   52500   \n",
       "8             amphp  parallel-functions   44500   \n",
       "9             amphp             process   42300   \n",
       "10            amphp              socket   35600   \n",
       "11        xtrime-ru         TelegramRSS   30600   \n",
       "12            amphp                sync   30500   \n",
       "13            amphp                 dns   28300   \n",
       "14            amphp               redis   27900   \n",
       "15            amphp    websocket-client   27000   \n",
       "16          kelunik                acme   26100   \n",
       "17            amphp       serialization   23000   \n",
       "18            amphp    websocket-server   21800   \n",
       "19           PeeHaa            mailgrab   21800   \n",
       "\n",
       "                                          repo_url  \n",
       "0                     https://github.com/amphp/amp  \n",
       "1           https://github.com/danog/MadelineProto  \n",
       "2         https://github.com/unreal4u/telegram-api  \n",
       "3                https://github.com/amphp/parallel  \n",
       "4             https://github.com/amphp/http-client  \n",
       "5             https://github.com/amphp/byte-stream  \n",
       "6   https://github.com/php-service-bus/service-bus  \n",
       "7                   https://github.com/amphp/mysql  \n",
       "8      https://github.com/amphp/parallel-functions  \n",
       "9                 https://github.com/amphp/process  \n",
       "10                 https://github.com/amphp/socket  \n",
       "11        https://github.com/xtrime-ru/TelegramRSS  \n",
       "12                   https://github.com/amphp/sync  \n",
       "13                    https://github.com/amphp/dns  \n",
       "14                  https://github.com/amphp/redis  \n",
       "15       https://github.com/amphp/websocket-client  \n",
       "16                 https://github.com/kelunik/acme  \n",
       "17          https://github.com/amphp/serialization  \n",
       "18       https://github.com/amphp/websocket-server  \n",
       "19              https://github.com/PeeHaa/mailgrab  "
      ]
     },
     "execution_count": 69,
     "metadata": {},
     "output_type": "execute_result"
    }
   ],
   "source": [
    "import os\n",
    "\n",
    "# Function to extract the topic name from the URL\n",
    "def extract_topic_name(url):\n",
    "    parts = url.split('/')\n",
    "    return parts[-1]\n",
    "\n",
    "# Insert Title name in form of Index\n",
    "topic_url = git_topic_urls[3]\n",
    "\n",
    "topic_name = extract_topic_name(topic_url)\n",
    "\n",
    "csv_filename = f'{topic_name}.csv'\n",
    "\n",
    "get_topic_repos(get_topic_page(topic_url)).to_csv(csv_filename, index=None)\n",
    "\n",
    "# Generate DF from given data\n",
    "Data_from_selected_title = get_topic_repos(get_topic_page(topic_url))\n",
    "print(f\"Scraping top repositories for \\\"{topic_name}\\\":\")\n",
    "Data_from_selected_title\n",
    "\n"
   ]
  },
  {
   "cell_type": "code",
   "execution_count": null,
   "id": "1693c712",
   "metadata": {},
   "outputs": [],
   "source": []
  }
 ],
 "metadata": {
  "kernelspec": {
   "display_name": "Python 3 (ipykernel)",
   "language": "python",
   "name": "python3"
  },
  "language_info": {
   "codemirror_mode": {
    "name": "ipython",
    "version": 3
   },
   "file_extension": ".py",
   "mimetype": "text/x-python",
   "name": "python",
   "nbconvert_exporter": "python",
   "pygments_lexer": "ipython3",
   "version": "3.11.5"
  }
 },
 "nbformat": 4,
 "nbformat_minor": 5
}
